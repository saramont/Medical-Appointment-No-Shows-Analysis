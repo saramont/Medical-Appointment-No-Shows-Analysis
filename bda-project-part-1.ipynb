{
 "cells": [
  {
   "cell_type": "markdown",
   "metadata": {
    "id": "0Yxp52biqKSI"
   },
   "source": [
    "# Big Data Analytics Project: Medical Appointment No Shows\n",
    "\n",
    "Use the \"Run\" button to execute the code."
   ]
  },
  {
   "cell_type": "code",
   "execution_count": 145,
   "metadata": {
    "executionInfo": {
     "elapsed": 3142,
     "status": "ok",
     "timestamp": 1635406783612,
     "user": {
      "displayName": "MATTEO CEREGINI",
      "photoUrl": "https://lh3.googleusercontent.com/a/default-user=s64",
      "userId": "02488480816656216475"
     },
     "user_tz": -120
    },
    "id": "jhkmmieiqKSM"
   },
   "outputs": [],
   "source": [
    "!pip install jovian --upgrade --quiet"
   ]
  },
  {
   "cell_type": "code",
   "execution_count": 146,
   "metadata": {
    "executionInfo": {
     "elapsed": 360,
     "status": "ok",
     "timestamp": 1635406783620,
     "user": {
      "displayName": "MATTEO CEREGINI",
      "photoUrl": "https://lh3.googleusercontent.com/a/default-user=s64",
      "userId": "02488480816656216475"
     },
     "user_tz": -120
    },
    "id": "LdgPzvBtqKSP"
   },
   "outputs": [],
   "source": [
    "import jovian"
   ]
  },
  {
   "cell_type": "code",
   "execution_count": 147,
   "metadata": {
    "colab": {
     "base_uri": "https://localhost:8080/"
    },
    "executionInfo": {
     "elapsed": 49,
     "status": "ok",
     "timestamp": 1635406783624,
     "user": {
      "displayName": "MATTEO CEREGINI",
      "photoUrl": "https://lh3.googleusercontent.com/a/default-user=s64",
      "userId": "02488480816656216475"
     },
     "user_tz": -120
    },
    "id": "QUQ4wBaQsP3A",
    "outputId": "5c882f20-7d48-495d-82a0-a0abc725aba5"
   },
   "outputs": [
    {
     "name": "stdout",
     "output_type": "stream",
     "text": [
      "Drive already mounted at /content/drive; to attempt to forcibly remount, call drive.mount(\"/content/drive\", force_remount=True).\n"
     ]
    }
   ],
   "source": [
    "from google.colab import drive\n",
    "drive.mount('/content/drive')"
   ]
  },
  {
   "cell_type": "markdown",
   "metadata": {
    "id": "1H3Wc0ZoBfF3"
   },
   "source": [
    "# Table of Contents"
   ]
  },
  {
   "cell_type": "markdown",
   "metadata": {
    "id": "IkwgnqCBCMa6"
   },
   "source": [
    "## Table of Contents\n",
    "1. [Introduction](#intro) \n",
    "2. [Data Cleaning](#data_cleaning) \n",
    "3. [Feature Engineering](#feature_eng)\n",
    "4. [Exploratory Analysis](#exploratory_analysis)\n",
    "5. [Correlation Analysis](#correlations)\n",
    "6. [Next Steps](#next_steps)"
   ]
  },
  {
   "cell_type": "markdown",
   "metadata": {
    "id": "Cq08tHY3uuap"
   },
   "source": [
    "<a id='intro'></a>\n",
    "# Introduction"
   ]
  },
  {
   "cell_type": "markdown",
   "metadata": {
    "id": "KfVV93KYu-4s"
   },
   "source": [
    "The dataset used in this notebook is available at this [link](https://www.kaggle.com/joniarroba/noshowappointments).\n",
    "\n",
    "Each record in the dataset rappresents a medical appointment that took place in Brazil. In particular, for each record is indicated if the patient showed up at the appointment or not. \n",
    "\n",
    "The objective of the analysis is to gain some insight regarding the factors that most influence whether a patient shows up for an appointment or not. \n",
    "In this way, it could be possible to predict with a good degree of accuracy whether or not a patient will show up for a given appointment, leading to less wasted resources, better services and reduced costs in the Brazilian healthcare system."
   ]
  },
  {
   "cell_type": "code",
   "execution_count": 148,
   "metadata": {
    "executionInfo": {
     "elapsed": 36,
     "status": "ok",
     "timestamp": 1635406783625,
     "user": {
      "displayName": "MATTEO CEREGINI",
      "photoUrl": "https://lh3.googleusercontent.com/a/default-user=s64",
      "userId": "02488480816656216475"
     },
     "user_tz": -120
    },
    "id": "WPWkVzR1vRSY"
   },
   "outputs": [],
   "source": [
    "# import useful packages\n",
    "%matplotlib inline\n",
    "import numpy as np\n",
    "import pandas as pd \n",
    "import scipy as sp\n",
    "import sklearn as sk\n",
    "import matplotlib.pylab as plt\n",
    "import seaborn as sns\n",
    "#import warnings\n",
    "#warnings.filterwarnings(\"ignore\")"
   ]
  },
  {
   "cell_type": "code",
   "execution_count": 149,
   "metadata": {
    "executionInfo": {
     "elapsed": 59,
     "status": "ok",
     "timestamp": 1635406783648,
     "user": {
      "displayName": "MATTEO CEREGINI",
      "photoUrl": "https://lh3.googleusercontent.com/a/default-user=s64",
      "userId": "02488480816656216475"
     },
     "user_tz": -120
    },
    "id": "EW_cu6V2Bpro"
   },
   "outputs": [],
   "source": [
    "sns.set_style('darkgrid')        # darkgrid, white grid, dark, white and ticks\n",
    "plt.rc('axes', labelsize=14)     # fontsize of the x and y labels\n",
    "plt.rc('legend', fontsize=13)    # legend fontsize"
   ]
  },
  {
   "cell_type": "code",
   "execution_count": 150,
   "metadata": {
    "colab": {
     "base_uri": "https://localhost:8080/",
     "height": 0
    },
    "executionInfo": {
     "elapsed": 59,
     "status": "ok",
     "timestamp": 1635406783650,
     "user": {
      "displayName": "MATTEO CEREGINI",
      "photoUrl": "https://lh3.googleusercontent.com/a/default-user=s64",
      "userId": "02488480816656216475"
     },
     "user_tz": -120
    },
    "id": "BdWz7eous5kq",
    "outputId": "9d471064-4358-4c8b-973b-bcc726f39b0c"
   },
   "outputs": [
    {
     "data": {
      "text/html": [
       "<div>\n",
       "<style scoped>\n",
       "    .dataframe tbody tr th:only-of-type {\n",
       "        vertical-align: middle;\n",
       "    }\n",
       "\n",
       "    .dataframe tbody tr th {\n",
       "        vertical-align: top;\n",
       "    }\n",
       "\n",
       "    .dataframe thead th {\n",
       "        text-align: right;\n",
       "    }\n",
       "</style>\n",
       "<table border=\"1\" class=\"dataframe\">\n",
       "  <thead>\n",
       "    <tr style=\"text-align: right;\">\n",
       "      <th></th>\n",
       "      <th>PatientId</th>\n",
       "      <th>AppointmentID</th>\n",
       "      <th>Gender</th>\n",
       "      <th>ScheduledDay</th>\n",
       "      <th>AppointmentDay</th>\n",
       "      <th>Age</th>\n",
       "      <th>Neighbourhood</th>\n",
       "      <th>Scholarship</th>\n",
       "      <th>Hipertension</th>\n",
       "      <th>Diabetes</th>\n",
       "      <th>Alcoholism</th>\n",
       "      <th>Handcap</th>\n",
       "      <th>SMS_received</th>\n",
       "      <th>No-show</th>\n",
       "    </tr>\n",
       "  </thead>\n",
       "  <tbody>\n",
       "    <tr>\n",
       "      <th>699</th>\n",
       "      <td>4.339387e+11</td>\n",
       "      <td>5640816</td>\n",
       "      <td>F</td>\n",
       "      <td>2016-04-29T11:27:58Z</td>\n",
       "      <td>2016-04-29T00:00:00Z</td>\n",
       "      <td>77</td>\n",
       "      <td>JESUS DE NAZARETH</td>\n",
       "      <td>0</td>\n",
       "      <td>1</td>\n",
       "      <td>1</td>\n",
       "      <td>0</td>\n",
       "      <td>0</td>\n",
       "      <td>0</td>\n",
       "      <td>No</td>\n",
       "    </tr>\n",
       "    <tr>\n",
       "      <th>95478</th>\n",
       "      <td>9.392136e+13</td>\n",
       "      <td>5742603</td>\n",
       "      <td>F</td>\n",
       "      <td>2016-05-30T08:09:36Z</td>\n",
       "      <td>2016-06-07T00:00:00Z</td>\n",
       "      <td>29</td>\n",
       "      <td>REDENÇÃO</td>\n",
       "      <td>0</td>\n",
       "      <td>0</td>\n",
       "      <td>0</td>\n",
       "      <td>0</td>\n",
       "      <td>0</td>\n",
       "      <td>1</td>\n",
       "      <td>No</td>\n",
       "    </tr>\n",
       "    <tr>\n",
       "      <th>102060</th>\n",
       "      <td>6.851264e+14</td>\n",
       "      <td>5720281</td>\n",
       "      <td>F</td>\n",
       "      <td>2016-05-19T13:36:19Z</td>\n",
       "      <td>2016-06-02T00:00:00Z</td>\n",
       "      <td>56</td>\n",
       "      <td>SANTO ANTÔNIO</td>\n",
       "      <td>0</td>\n",
       "      <td>1</td>\n",
       "      <td>1</td>\n",
       "      <td>0</td>\n",
       "      <td>0</td>\n",
       "      <td>1</td>\n",
       "      <td>No</td>\n",
       "    </tr>\n",
       "  </tbody>\n",
       "</table>\n",
       "</div>"
      ],
      "text/plain": [
       "           PatientId  AppointmentID Gender  ... Handcap SMS_received  No-show\n",
       "699     4.339387e+11        5640816      F  ...       0            0       No\n",
       "95478   9.392136e+13        5742603      F  ...       0            1       No\n",
       "102060  6.851264e+14        5720281      F  ...       0            1       No\n",
       "\n",
       "[3 rows x 14 columns]"
      ]
     },
     "execution_count": 150,
     "metadata": {},
     "output_type": "execute_result"
    }
   ],
   "source": [
    "df = pd.read_csv(\"/content/drive/MyDrive/BigData/NoShowAppointments.csv\")\n",
    "df.sample(3)"
   ]
  },
  {
   "cell_type": "markdown",
   "metadata": {
    "id": "0JoDyeLrv2YS"
   },
   "source": [
    "Each record is composed by 14 attributes:\n",
    "\n",
    "*   **PatientId**: identification of each patient.\n",
    "*   **AppointmentID**: identification of each appointment.\n",
    "*   **Gender**: male or Female.\n",
    "*   **ScheduledDay**: the day of the booking of the appointment.\n",
    "*   **AppointmentDay**: the day of the appointment, when they have to visit the doctor.\n",
    "*   **Age**: how old is the patient.\n",
    "*   **Neighbourhood**: where the appointment takes place.\n",
    "*   **Scholarship**: True or False. If the patient is elegible to receive the government subsidy (*Bolsa familia*).\n",
    "*   **Hipertension**: True or False. If the patient has hypertension or not.\n",
    "*   **Diabetes**: True or False. If the patient has diabetes or not.\n",
    "*   **Alcoholism**: True or False. If the patient has alcoholism or not.\n",
    "*   **Handcap**: refers to the number of disabilites the patient has.\n",
    "*   **SMS_received**: True or False. If the patient has received one or more SMS.\n",
    "*   **No-show**: True or False. If the patient shows up to the appointment.\n",
    "\n"
   ]
  },
  {
   "cell_type": "code",
   "execution_count": 151,
   "metadata": {
    "colab": {
     "base_uri": "https://localhost:8080/",
     "height": 0
    },
    "executionInfo": {
     "elapsed": 497,
     "status": "ok",
     "timestamp": 1635406784092,
     "user": {
      "displayName": "MATTEO CEREGINI",
      "photoUrl": "https://lh3.googleusercontent.com/a/default-user=s64",
      "userId": "02488480816656216475"
     },
     "user_tz": -120
    },
    "id": "M-swKnyI1wIa",
    "outputId": "c692f302-a301-4589-fe16-a2cdf8478fae"
   },
   "outputs": [
    {
     "data": {
      "text/html": [
       "<div>\n",
       "<style scoped>\n",
       "    .dataframe tbody tr th:only-of-type {\n",
       "        vertical-align: middle;\n",
       "    }\n",
       "\n",
       "    .dataframe tbody tr th {\n",
       "        vertical-align: top;\n",
       "    }\n",
       "\n",
       "    .dataframe thead th {\n",
       "        text-align: right;\n",
       "    }\n",
       "</style>\n",
       "<table border=\"1\" class=\"dataframe\">\n",
       "  <thead>\n",
       "    <tr style=\"text-align: right;\">\n",
       "      <th></th>\n",
       "      <th>PatientId</th>\n",
       "      <th>AppointmentID</th>\n",
       "      <th>Gender</th>\n",
       "      <th>ScheduledDay</th>\n",
       "      <th>AppointmentDay</th>\n",
       "      <th>Age</th>\n",
       "      <th>Neighbourhood</th>\n",
       "      <th>Scholarship</th>\n",
       "      <th>Hipertension</th>\n",
       "      <th>Diabetes</th>\n",
       "      <th>Alcoholism</th>\n",
       "      <th>Handcap</th>\n",
       "      <th>SMS_received</th>\n",
       "      <th>No-show</th>\n",
       "    </tr>\n",
       "  </thead>\n",
       "  <tbody>\n",
       "    <tr>\n",
       "      <th>count</th>\n",
       "      <td>1.105270e+05</td>\n",
       "      <td>1.105270e+05</td>\n",
       "      <td>110527</td>\n",
       "      <td>110527</td>\n",
       "      <td>110527</td>\n",
       "      <td>110527.000000</td>\n",
       "      <td>110527</td>\n",
       "      <td>110527.000000</td>\n",
       "      <td>110527.000000</td>\n",
       "      <td>110527.000000</td>\n",
       "      <td>110527.000000</td>\n",
       "      <td>110527.000000</td>\n",
       "      <td>110527.000000</td>\n",
       "      <td>110527</td>\n",
       "    </tr>\n",
       "    <tr>\n",
       "      <th>unique</th>\n",
       "      <td>NaN</td>\n",
       "      <td>NaN</td>\n",
       "      <td>2</td>\n",
       "      <td>103549</td>\n",
       "      <td>27</td>\n",
       "      <td>NaN</td>\n",
       "      <td>81</td>\n",
       "      <td>NaN</td>\n",
       "      <td>NaN</td>\n",
       "      <td>NaN</td>\n",
       "      <td>NaN</td>\n",
       "      <td>NaN</td>\n",
       "      <td>NaN</td>\n",
       "      <td>2</td>\n",
       "    </tr>\n",
       "    <tr>\n",
       "      <th>top</th>\n",
       "      <td>NaN</td>\n",
       "      <td>NaN</td>\n",
       "      <td>F</td>\n",
       "      <td>2016-05-06T07:09:54Z</td>\n",
       "      <td>2016-06-06T00:00:00Z</td>\n",
       "      <td>NaN</td>\n",
       "      <td>JARDIM CAMBURI</td>\n",
       "      <td>NaN</td>\n",
       "      <td>NaN</td>\n",
       "      <td>NaN</td>\n",
       "      <td>NaN</td>\n",
       "      <td>NaN</td>\n",
       "      <td>NaN</td>\n",
       "      <td>No</td>\n",
       "    </tr>\n",
       "    <tr>\n",
       "      <th>freq</th>\n",
       "      <td>NaN</td>\n",
       "      <td>NaN</td>\n",
       "      <td>71840</td>\n",
       "      <td>24</td>\n",
       "      <td>4692</td>\n",
       "      <td>NaN</td>\n",
       "      <td>7717</td>\n",
       "      <td>NaN</td>\n",
       "      <td>NaN</td>\n",
       "      <td>NaN</td>\n",
       "      <td>NaN</td>\n",
       "      <td>NaN</td>\n",
       "      <td>NaN</td>\n",
       "      <td>88208</td>\n",
       "    </tr>\n",
       "    <tr>\n",
       "      <th>mean</th>\n",
       "      <td>1.474963e+14</td>\n",
       "      <td>5.675305e+06</td>\n",
       "      <td>NaN</td>\n",
       "      <td>NaN</td>\n",
       "      <td>NaN</td>\n",
       "      <td>37.088874</td>\n",
       "      <td>NaN</td>\n",
       "      <td>0.098266</td>\n",
       "      <td>0.197246</td>\n",
       "      <td>0.071865</td>\n",
       "      <td>0.030400</td>\n",
       "      <td>0.022248</td>\n",
       "      <td>0.321026</td>\n",
       "      <td>NaN</td>\n",
       "    </tr>\n",
       "    <tr>\n",
       "      <th>std</th>\n",
       "      <td>2.560949e+14</td>\n",
       "      <td>7.129575e+04</td>\n",
       "      <td>NaN</td>\n",
       "      <td>NaN</td>\n",
       "      <td>NaN</td>\n",
       "      <td>23.110205</td>\n",
       "      <td>NaN</td>\n",
       "      <td>0.297675</td>\n",
       "      <td>0.397921</td>\n",
       "      <td>0.258265</td>\n",
       "      <td>0.171686</td>\n",
       "      <td>0.161543</td>\n",
       "      <td>0.466873</td>\n",
       "      <td>NaN</td>\n",
       "    </tr>\n",
       "    <tr>\n",
       "      <th>min</th>\n",
       "      <td>3.921784e+04</td>\n",
       "      <td>5.030230e+06</td>\n",
       "      <td>NaN</td>\n",
       "      <td>NaN</td>\n",
       "      <td>NaN</td>\n",
       "      <td>-1.000000</td>\n",
       "      <td>NaN</td>\n",
       "      <td>0.000000</td>\n",
       "      <td>0.000000</td>\n",
       "      <td>0.000000</td>\n",
       "      <td>0.000000</td>\n",
       "      <td>0.000000</td>\n",
       "      <td>0.000000</td>\n",
       "      <td>NaN</td>\n",
       "    </tr>\n",
       "    <tr>\n",
       "      <th>25%</th>\n",
       "      <td>4.172614e+12</td>\n",
       "      <td>5.640286e+06</td>\n",
       "      <td>NaN</td>\n",
       "      <td>NaN</td>\n",
       "      <td>NaN</td>\n",
       "      <td>18.000000</td>\n",
       "      <td>NaN</td>\n",
       "      <td>0.000000</td>\n",
       "      <td>0.000000</td>\n",
       "      <td>0.000000</td>\n",
       "      <td>0.000000</td>\n",
       "      <td>0.000000</td>\n",
       "      <td>0.000000</td>\n",
       "      <td>NaN</td>\n",
       "    </tr>\n",
       "    <tr>\n",
       "      <th>50%</th>\n",
       "      <td>3.173184e+13</td>\n",
       "      <td>5.680573e+06</td>\n",
       "      <td>NaN</td>\n",
       "      <td>NaN</td>\n",
       "      <td>NaN</td>\n",
       "      <td>37.000000</td>\n",
       "      <td>NaN</td>\n",
       "      <td>0.000000</td>\n",
       "      <td>0.000000</td>\n",
       "      <td>0.000000</td>\n",
       "      <td>0.000000</td>\n",
       "      <td>0.000000</td>\n",
       "      <td>0.000000</td>\n",
       "      <td>NaN</td>\n",
       "    </tr>\n",
       "    <tr>\n",
       "      <th>75%</th>\n",
       "      <td>9.439172e+13</td>\n",
       "      <td>5.725524e+06</td>\n",
       "      <td>NaN</td>\n",
       "      <td>NaN</td>\n",
       "      <td>NaN</td>\n",
       "      <td>55.000000</td>\n",
       "      <td>NaN</td>\n",
       "      <td>0.000000</td>\n",
       "      <td>0.000000</td>\n",
       "      <td>0.000000</td>\n",
       "      <td>0.000000</td>\n",
       "      <td>0.000000</td>\n",
       "      <td>1.000000</td>\n",
       "      <td>NaN</td>\n",
       "    </tr>\n",
       "    <tr>\n",
       "      <th>max</th>\n",
       "      <td>9.999816e+14</td>\n",
       "      <td>5.790484e+06</td>\n",
       "      <td>NaN</td>\n",
       "      <td>NaN</td>\n",
       "      <td>NaN</td>\n",
       "      <td>115.000000</td>\n",
       "      <td>NaN</td>\n",
       "      <td>1.000000</td>\n",
       "      <td>1.000000</td>\n",
       "      <td>1.000000</td>\n",
       "      <td>1.000000</td>\n",
       "      <td>4.000000</td>\n",
       "      <td>1.000000</td>\n",
       "      <td>NaN</td>\n",
       "    </tr>\n",
       "  </tbody>\n",
       "</table>\n",
       "</div>"
      ],
      "text/plain": [
       "           PatientId  AppointmentID  ...   SMS_received No-show\n",
       "count   1.105270e+05   1.105270e+05  ...  110527.000000  110527\n",
       "unique           NaN            NaN  ...            NaN       2\n",
       "top              NaN            NaN  ...            NaN      No\n",
       "freq             NaN            NaN  ...            NaN   88208\n",
       "mean    1.474963e+14   5.675305e+06  ...       0.321026     NaN\n",
       "std     2.560949e+14   7.129575e+04  ...       0.466873     NaN\n",
       "min     3.921784e+04   5.030230e+06  ...       0.000000     NaN\n",
       "25%     4.172614e+12   5.640286e+06  ...       0.000000     NaN\n",
       "50%     3.173184e+13   5.680573e+06  ...       0.000000     NaN\n",
       "75%     9.439172e+13   5.725524e+06  ...       1.000000     NaN\n",
       "max     9.999816e+14   5.790484e+06  ...       1.000000     NaN\n",
       "\n",
       "[11 rows x 14 columns]"
      ]
     },
     "execution_count": 151,
     "metadata": {},
     "output_type": "execute_result"
    }
   ],
   "source": [
    "df.describe(include=\"all\")"
   ]
  },
  {
   "cell_type": "code",
   "execution_count": 152,
   "metadata": {
    "colab": {
     "base_uri": "https://localhost:8080/"
    },
    "executionInfo": {
     "elapsed": 14,
     "status": "ok",
     "timestamp": 1635406784094,
     "user": {
      "displayName": "MATTEO CEREGINI",
      "photoUrl": "https://lh3.googleusercontent.com/a/default-user=s64",
      "userId": "02488480816656216475"
     },
     "user_tz": -120
    },
    "id": "Rc9lTHJszvUT",
    "outputId": "40115fc0-c831-42b1-85b9-3f00ace30c30"
   },
   "outputs": [
    {
     "name": "stdout",
     "output_type": "stream",
     "text": [
      "<class 'pandas.core.frame.DataFrame'>\n",
      "RangeIndex: 110527 entries, 0 to 110526\n",
      "Data columns (total 14 columns):\n",
      " #   Column          Non-Null Count   Dtype  \n",
      "---  ------          --------------   -----  \n",
      " 0   PatientId       110527 non-null  float64\n",
      " 1   AppointmentID   110527 non-null  int64  \n",
      " 2   Gender          110527 non-null  object \n",
      " 3   ScheduledDay    110527 non-null  object \n",
      " 4   AppointmentDay  110527 non-null  object \n",
      " 5   Age             110527 non-null  int64  \n",
      " 6   Neighbourhood   110527 non-null  object \n",
      " 7   Scholarship     110527 non-null  int64  \n",
      " 8   Hipertension    110527 non-null  int64  \n",
      " 9   Diabetes        110527 non-null  int64  \n",
      " 10  Alcoholism      110527 non-null  int64  \n",
      " 11  Handcap         110527 non-null  int64  \n",
      " 12  SMS_received    110527 non-null  int64  \n",
      " 13  No-show         110527 non-null  object \n",
      "dtypes: float64(1), int64(8), object(5)\n",
      "memory usage: 11.8+ MB\n"
     ]
    }
   ],
   "source": [
    "df.info()"
   ]
  },
  {
   "cell_type": "markdown",
   "metadata": {
    "id": "Ss3vvxDhaLng"
   },
   "source": [
    "The dataset contains 110527 records and there aren't any missing values.\n",
    "\n",
    "In the following section we will analyse each attribute, perform some data cleaning and add new features in order to improve the overall quality of the dataset."
   ]
  },
  {
   "cell_type": "markdown",
   "metadata": {
    "id": "hoUJN9dF6Z2B"
   },
   "source": [
    "<a id='data_cleaning'></a>\n",
    "# Data Cleaning"
   ]
  },
  {
   "cell_type": "markdown",
   "metadata": {
    "id": "3_Y9gUF04dHJ"
   },
   "source": [
    "### Checking for duplicate records"
   ]
  },
  {
   "cell_type": "markdown",
   "metadata": {
    "id": "eWnwngfO5ew5"
   },
   "source": [
    "We check if there are any duplicates."
   ]
  },
  {
   "cell_type": "code",
   "execution_count": 153,
   "metadata": {
    "colab": {
     "base_uri": "https://localhost:8080/"
    },
    "executionInfo": {
     "elapsed": 15,
     "status": "ok",
     "timestamp": 1635406784096,
     "user": {
      "displayName": "MATTEO CEREGINI",
      "photoUrl": "https://lh3.googleusercontent.com/a/default-user=s64",
      "userId": "02488480816656216475"
     },
     "user_tz": -120
    },
    "id": "QwlhoDAz4syc",
    "outputId": "d706d2e5-07ad-4677-f991-42bc71715215"
   },
   "outputs": [
    {
     "name": "stdout",
     "output_type": "stream",
     "text": [
      "Number of duplicate records:  0\n"
     ]
    }
   ],
   "source": [
    "print(\"Number of duplicate records: \", len(df[df.duplicated()]))"
   ]
  },
  {
   "cell_type": "markdown",
   "metadata": {
    "id": "igh6QWVH5kHd"
   },
   "source": [
    "We check that all records have different a *AppointmentID*."
   ]
  },
  {
   "cell_type": "code",
   "execution_count": 154,
   "metadata": {
    "colab": {
     "base_uri": "https://localhost:8080/"
    },
    "executionInfo": {
     "elapsed": 15,
     "status": "ok",
     "timestamp": 1635406784097,
     "user": {
      "displayName": "MATTEO CEREGINI",
      "photoUrl": "https://lh3.googleusercontent.com/a/default-user=s64",
      "userId": "02488480816656216475"
     },
     "user_tz": -120
    },
    "id": "tK6KcSea4gus",
    "outputId": "e4a55cc3-ee6d-4545-fa6a-689171e1c00e"
   },
   "outputs": [
    {
     "data": {
      "text/plain": [
       "True"
      ]
     },
     "execution_count": 154,
     "metadata": {},
     "output_type": "execute_result"
    }
   ],
   "source": [
    "df.shape[0] == len(df[\"AppointmentID\"].unique())"
   ]
  },
  {
   "cell_type": "markdown",
   "metadata": {
    "id": "7Gfas0sQjhGw"
   },
   "source": [
    "### *ScheduledDay* and *AppointmentDay*"
   ]
  },
  {
   "cell_type": "markdown",
   "metadata": {
    "id": "NsEgs2KncoKH"
   },
   "source": [
    "First of all, we transform the attributes *ScheduledDay* and *AppointmentDay* in *datetime* objects so that it will be easier to work with them."
   ]
  },
  {
   "cell_type": "code",
   "execution_count": 155,
   "metadata": {
    "executionInfo": {
     "elapsed": 314,
     "status": "ok",
     "timestamp": 1635406784397,
     "user": {
      "displayName": "MATTEO CEREGINI",
      "photoUrl": "https://lh3.googleusercontent.com/a/default-user=s64",
      "userId": "02488480816656216475"
     },
     "user_tz": -120
    },
    "id": "DjctDxsO5b2r"
   },
   "outputs": [],
   "source": [
    "for col in [\"ScheduledDay\", \"AppointmentDay\"]:\n",
    "  df[col] = pd.to_datetime(df[col])"
   ]
  },
  {
   "cell_type": "code",
   "execution_count": 156,
   "metadata": {
    "colab": {
     "base_uri": "https://localhost:8080/",
     "height": 0
    },
    "executionInfo": {
     "elapsed": 15,
     "status": "ok",
     "timestamp": 1635406784398,
     "user": {
      "displayName": "MATTEO CEREGINI",
      "photoUrl": "https://lh3.googleusercontent.com/a/default-user=s64",
      "userId": "02488480816656216475"
     },
     "user_tz": -120
    },
    "id": "spI9aJl2eljl",
    "outputId": "557c791c-3695-44f9-e217-4283aaa2e773"
   },
   "outputs": [
    {
     "data": {
      "text/html": [
       "<div>\n",
       "<style scoped>\n",
       "    .dataframe tbody tr th:only-of-type {\n",
       "        vertical-align: middle;\n",
       "    }\n",
       "\n",
       "    .dataframe tbody tr th {\n",
       "        vertical-align: top;\n",
       "    }\n",
       "\n",
       "    .dataframe thead th {\n",
       "        text-align: right;\n",
       "    }\n",
       "</style>\n",
       "<table border=\"1\" class=\"dataframe\">\n",
       "  <thead>\n",
       "    <tr style=\"text-align: right;\">\n",
       "      <th></th>\n",
       "      <th>PatientId</th>\n",
       "      <th>AppointmentID</th>\n",
       "      <th>Gender</th>\n",
       "      <th>ScheduledDay</th>\n",
       "      <th>AppointmentDay</th>\n",
       "      <th>Age</th>\n",
       "      <th>Neighbourhood</th>\n",
       "      <th>Scholarship</th>\n",
       "      <th>Hipertension</th>\n",
       "      <th>Diabetes</th>\n",
       "      <th>Alcoholism</th>\n",
       "      <th>Handcap</th>\n",
       "      <th>SMS_received</th>\n",
       "      <th>No-show</th>\n",
       "    </tr>\n",
       "  </thead>\n",
       "  <tbody>\n",
       "    <tr>\n",
       "      <th>101929</th>\n",
       "      <td>1.738939e+13</td>\n",
       "      <td>5752283</td>\n",
       "      <td>F</td>\n",
       "      <td>2016-05-31 11:28:24+00:00</td>\n",
       "      <td>2016-06-02 00:00:00+00:00</td>\n",
       "      <td>6</td>\n",
       "      <td>JESUS DE NAZARETH</td>\n",
       "      <td>0</td>\n",
       "      <td>0</td>\n",
       "      <td>0</td>\n",
       "      <td>0</td>\n",
       "      <td>0</td>\n",
       "      <td>0</td>\n",
       "      <td>Yes</td>\n",
       "    </tr>\n",
       "    <tr>\n",
       "      <th>51346</th>\n",
       "      <td>2.471534e+11</td>\n",
       "      <td>5554819</td>\n",
       "      <td>F</td>\n",
       "      <td>2016-04-07 09:04:46+00:00</td>\n",
       "      <td>2016-05-05 00:00:00+00:00</td>\n",
       "      <td>22</td>\n",
       "      <td>MARIA ORTIZ</td>\n",
       "      <td>0</td>\n",
       "      <td>0</td>\n",
       "      <td>0</td>\n",
       "      <td>0</td>\n",
       "      <td>0</td>\n",
       "      <td>1</td>\n",
       "      <td>No</td>\n",
       "    </tr>\n",
       "    <tr>\n",
       "      <th>25880</th>\n",
       "      <td>3.379398e+13</td>\n",
       "      <td>5663865</td>\n",
       "      <td>M</td>\n",
       "      <td>2016-05-05 10:40:45+00:00</td>\n",
       "      <td>2016-05-16 00:00:00+00:00</td>\n",
       "      <td>16</td>\n",
       "      <td>ESTRELINHA</td>\n",
       "      <td>0</td>\n",
       "      <td>0</td>\n",
       "      <td>1</td>\n",
       "      <td>0</td>\n",
       "      <td>0</td>\n",
       "      <td>0</td>\n",
       "      <td>No</td>\n",
       "    </tr>\n",
       "    <tr>\n",
       "      <th>38307</th>\n",
       "      <td>9.146647e+12</td>\n",
       "      <td>5635752</td>\n",
       "      <td>M</td>\n",
       "      <td>2016-04-28 14:03:32+00:00</td>\n",
       "      <td>2016-05-25 00:00:00+00:00</td>\n",
       "      <td>44</td>\n",
       "      <td>SANTA TEREZA</td>\n",
       "      <td>0</td>\n",
       "      <td>0</td>\n",
       "      <td>0</td>\n",
       "      <td>0</td>\n",
       "      <td>0</td>\n",
       "      <td>1</td>\n",
       "      <td>No</td>\n",
       "    </tr>\n",
       "    <tr>\n",
       "      <th>81691</th>\n",
       "      <td>9.611967e+12</td>\n",
       "      <td>5672478</td>\n",
       "      <td>F</td>\n",
       "      <td>2016-05-09 08:06:38+00:00</td>\n",
       "      <td>2016-05-09 00:00:00+00:00</td>\n",
       "      <td>38</td>\n",
       "      <td>ITARARÉ</td>\n",
       "      <td>0</td>\n",
       "      <td>0</td>\n",
       "      <td>0</td>\n",
       "      <td>0</td>\n",
       "      <td>0</td>\n",
       "      <td>0</td>\n",
       "      <td>No</td>\n",
       "    </tr>\n",
       "  </tbody>\n",
       "</table>\n",
       "</div>"
      ],
      "text/plain": [
       "           PatientId  AppointmentID Gender  ... Handcap SMS_received  No-show\n",
       "101929  1.738939e+13        5752283      F  ...       0            0      Yes\n",
       "51346   2.471534e+11        5554819      F  ...       0            1       No\n",
       "25880   3.379398e+13        5663865      M  ...       0            0       No\n",
       "38307   9.146647e+12        5635752      M  ...       0            1       No\n",
       "81691   9.611967e+12        5672478      F  ...       0            0       No\n",
       "\n",
       "[5 rows x 14 columns]"
      ]
     },
     "execution_count": 156,
     "metadata": {},
     "output_type": "execute_result"
    }
   ],
   "source": [
    "df.sample(5)"
   ]
  },
  {
   "cell_type": "markdown",
   "metadata": {
    "id": "7sNfUcWLdn1Q"
   },
   "source": [
    "We note that, whereas in *ScheduledDay* are reported the exact date, hour, minutes and seconds of the reservation, in *AppointmentDay* only the day of the appointment is registered, since for every date the time is 00:00:00.\n",
    "\n",
    "For this reason we decide to ignore and drop the time of the day in both attributes.\n"
   ]
  },
  {
   "cell_type": "code",
   "execution_count": 157,
   "metadata": {
    "colab": {
     "base_uri": "https://localhost:8080/"
    },
    "executionInfo": {
     "elapsed": 15,
     "status": "ok",
     "timestamp": 1635406784399,
     "user": {
      "displayName": "MATTEO CEREGINI",
      "photoUrl": "https://lh3.googleusercontent.com/a/default-user=s64",
      "userId": "02488480816656216475"
     },
     "user_tz": -120
    },
    "id": "GvIFsyVf5fxS",
    "outputId": "9db55ee1-76d5-48ef-a2c7-ed04dca03419"
   },
   "outputs": [
    {
     "data": {
      "text/plain": [
       "array([18, 16, 17,  8, 15, 12, 14, 11, 10,  9,  7, 13, 19, 20,  6, 21])"
      ]
     },
     "execution_count": 157,
     "metadata": {},
     "output_type": "execute_result"
    }
   ],
   "source": [
    "df[\"ScheduledDay\"].dt.hour.unique()"
   ]
  },
  {
   "cell_type": "code",
   "execution_count": 158,
   "metadata": {
    "colab": {
     "base_uri": "https://localhost:8080/"
    },
    "executionInfo": {
     "elapsed": 15,
     "status": "ok",
     "timestamp": 1635406784401,
     "user": {
      "displayName": "MATTEO CEREGINI",
      "photoUrl": "https://lh3.googleusercontent.com/a/default-user=s64",
      "userId": "02488480816656216475"
     },
     "user_tz": -120
    },
    "id": "Dj5Nf63q5yBw",
    "outputId": "d0f07f12-9dd5-4675-af67-f7d1ad67d184"
   },
   "outputs": [
    {
     "data": {
      "text/plain": [
       "array([0])"
      ]
     },
     "execution_count": 158,
     "metadata": {},
     "output_type": "execute_result"
    }
   ],
   "source": [
    "df[\"AppointmentDay\"].dt.hour.unique()"
   ]
  },
  {
   "cell_type": "code",
   "execution_count": 159,
   "metadata": {
    "executionInfo": {
     "elapsed": 15,
     "status": "ok",
     "timestamp": 1635406784402,
     "user": {
      "displayName": "MATTEO CEREGINI",
      "photoUrl": "https://lh3.googleusercontent.com/a/default-user=s64",
      "userId": "02488480816656216475"
     },
     "user_tz": -120
    },
    "id": "oZ673Edf59xc"
   },
   "outputs": [],
   "source": [
    "for col in [\"ScheduledDay\", \"AppointmentDay\"]:\n",
    "  df[col] = pd.to_datetime(df[col]).dt.date.astype('datetime64[ns]')"
   ]
  },
  {
   "cell_type": "markdown",
   "metadata": {
    "id": "N9rjKH62ulRa"
   },
   "source": [
    "Let's figure out what is the time period covered by the records in the dataset."
   ]
  },
  {
   "cell_type": "code",
   "execution_count": 160,
   "metadata": {
    "colab": {
     "base_uri": "https://localhost:8080/"
    },
    "executionInfo": {
     "elapsed": 15,
     "status": "ok",
     "timestamp": 1635406784403,
     "user": {
      "displayName": "MATTEO CEREGINI",
      "photoUrl": "https://lh3.googleusercontent.com/a/default-user=s64",
      "userId": "02488480816656216475"
     },
     "user_tz": -120
    },
    "id": "n9D_E7fPH2Lt",
    "outputId": "248a3e1c-c152-42b9-d68f-217031e36f49"
   },
   "outputs": [
    {
     "data": {
      "text/plain": [
       "Timestamp('2015-11-10 00:00:00')"
      ]
     },
     "execution_count": 160,
     "metadata": {},
     "output_type": "execute_result"
    }
   ],
   "source": [
    "df['ScheduledDay'].min()"
   ]
  },
  {
   "cell_type": "code",
   "execution_count": 161,
   "metadata": {
    "colab": {
     "base_uri": "https://localhost:8080/"
    },
    "executionInfo": {
     "elapsed": 15,
     "status": "ok",
     "timestamp": 1635406784404,
     "user": {
      "displayName": "MATTEO CEREGINI",
      "photoUrl": "https://lh3.googleusercontent.com/a/default-user=s64",
      "userId": "02488480816656216475"
     },
     "user_tz": -120
    },
    "id": "o1JhVVe-H9rF",
    "outputId": "81fe6091-33d8-4384-b618-331977067c85"
   },
   "outputs": [
    {
     "data": {
      "text/plain": [
       "Timestamp('2016-06-08 00:00:00')"
      ]
     },
     "execution_count": 161,
     "metadata": {},
     "output_type": "execute_result"
    }
   ],
   "source": [
    "df['ScheduledDay'].max()"
   ]
  },
  {
   "cell_type": "markdown",
   "metadata": {
    "id": "k82zW8AXhmgg"
   },
   "source": [
    "The dataset contains appointment bookings covering a seven-month time span, ranging from the 10th of November 2015 through the 8th of June 2016."
   ]
  },
  {
   "cell_type": "code",
   "execution_count": 162,
   "metadata": {
    "colab": {
     "base_uri": "https://localhost:8080/"
    },
    "executionInfo": {
     "elapsed": 426,
     "status": "ok",
     "timestamp": 1635406784816,
     "user": {
      "displayName": "MATTEO CEREGINI",
      "photoUrl": "https://lh3.googleusercontent.com/a/default-user=s64",
      "userId": "02488480816656216475"
     },
     "user_tz": -120
    },
    "id": "Jyck_kf6IFhk",
    "outputId": "99f286dc-a04a-408e-9b58-68a071694797"
   },
   "outputs": [
    {
     "data": {
      "text/plain": [
       "Timestamp('2016-06-08 00:00:00')"
      ]
     },
     "execution_count": 162,
     "metadata": {},
     "output_type": "execute_result"
    }
   ],
   "source": [
    "df['AppointmentDay'].max()"
   ]
  },
  {
   "cell_type": "code",
   "execution_count": 163,
   "metadata": {
    "colab": {
     "base_uri": "https://localhost:8080/"
    },
    "executionInfo": {
     "elapsed": 20,
     "status": "ok",
     "timestamp": 1635406784817,
     "user": {
      "displayName": "MATTEO CEREGINI",
      "photoUrl": "https://lh3.googleusercontent.com/a/default-user=s64",
      "userId": "02488480816656216475"
     },
     "user_tz": -120
    },
    "id": "Kvr5XjiMH_q0",
    "outputId": "1bdaca83-9164-41dd-cb0f-6f399d00bfec"
   },
   "outputs": [
    {
     "data": {
      "text/plain": [
       "Timestamp('2016-04-29 00:00:00')"
      ]
     },
     "execution_count": 163,
     "metadata": {},
     "output_type": "execute_result"
    }
   ],
   "source": [
    "df['AppointmentDay'].min()"
   ]
  },
  {
   "cell_type": "markdown",
   "metadata": {
    "id": "bj3daE26iahB"
   },
   "source": [
    "The dataset contains appointments covering only a two-month time span, ranging from the 29th of April 2016 through the 8th of June 2016."
   ]
  },
  {
   "cell_type": "markdown",
   "metadata": {
    "id": "6FN5ym2Yj6A4"
   },
   "source": [
    "### *Age*"
   ]
  },
  {
   "cell_type": "markdown",
   "metadata": {
    "id": "APIaZQAJvOn5"
   },
   "source": [
    "We check if there are any odd values for the *Age* attribute. "
   ]
  },
  {
   "cell_type": "code",
   "execution_count": 164,
   "metadata": {
    "colab": {
     "base_uri": "https://localhost:8080/"
    },
    "executionInfo": {
     "elapsed": 19,
     "status": "ok",
     "timestamp": 1635406784817,
     "user": {
      "displayName": "MATTEO CEREGINI",
      "photoUrl": "https://lh3.googleusercontent.com/a/default-user=s64",
      "userId": "02488480816656216475"
     },
     "user_tz": -120
    },
    "id": "gmrsY7EC8Xfk",
    "outputId": "e6ab3f53-2443-461c-cf6c-be6d2a124f59"
   },
   "outputs": [
    {
     "data": {
      "text/plain": [
       "-1         1\n",
       " 0      3539\n",
       " 1      2273\n",
       " 2      1618\n",
       " 3      1513\n",
       "        ... \n",
       " 98        6\n",
       " 99        1\n",
       " 100       4\n",
       " 102       2\n",
       " 115       5\n",
       "Name: Age, Length: 104, dtype: int64"
      ]
     },
     "execution_count": 164,
     "metadata": {},
     "output_type": "execute_result"
    }
   ],
   "source": [
    "df['Age'].value_counts().sort_index()"
   ]
  },
  {
   "cell_type": "code",
   "execution_count": 165,
   "metadata": {
    "colab": {
     "base_uri": "https://localhost:8080/"
    },
    "executionInfo": {
     "elapsed": 18,
     "status": "ok",
     "timestamp": 1635406784817,
     "user": {
      "displayName": "MATTEO CEREGINI",
      "photoUrl": "https://lh3.googleusercontent.com/a/default-user=s64",
      "userId": "02488480816656216475"
     },
     "user_tz": -120
    },
    "id": "_qCJovbL2s54",
    "outputId": "5267ef3f-9c0d-436b-d78b-210727b90243"
   },
   "outputs": [
    {
     "name": "stdout",
     "output_type": "stream",
     "text": [
      "PatientId of patient with age=-1 is: 465943158731293.0\n",
      "We have 1 record with that PatientId\n"
     ]
    }
   ],
   "source": [
    "# get the PatientId of the patient with age = -1\n",
    "patientId = df[df['Age'] == -1][\"PatientId\"].values[0]\n",
    "print(\"PatientId of patient with age=-1 is: \" + str(patientId))\n",
    "\n",
    "print(\"We have \" + str(len(df[df[\"PatientId\"] == patientId])) + \" record with that PatientId\")\n"
   ]
  },
  {
   "cell_type": "code",
   "execution_count": 166,
   "metadata": {
    "executionInfo": {
     "elapsed": 18,
     "status": "ok",
     "timestamp": 1635406784818,
     "user": {
      "displayName": "MATTEO CEREGINI",
      "photoUrl": "https://lh3.googleusercontent.com/a/default-user=s64",
      "userId": "02488480816656216475"
     },
     "user_tz": -120
    },
    "id": "2mnUfOT9-Q3O"
   },
   "outputs": [],
   "source": [
    "# Drop the record with Age = -1\n",
    "df = df[df['Age'] != -1]"
   ]
  },
  {
   "cell_type": "markdown",
   "metadata": {
    "id": "IuLM-JOwkTRD"
   },
   "source": [
    "We note that there is only one record with negative patient's age. We check if there are other records with the same *PatientId* from which we could obtain the correct age, but there are none. Therfore we decide to delete this record.\n",
    "\n",
    "The age of the patients range from 0 (we consider them newborns) to 115 years."
   ]
  },
  {
   "cell_type": "markdown",
   "metadata": {
    "id": "PR7lys6hluX8"
   },
   "source": [
    "### *Neighbourhood*"
   ]
  },
  {
   "cell_type": "markdown",
   "metadata": {
    "id": "2mLX3EOpv_Le"
   },
   "source": [
    "We check if there are any odd values for the *Neighbourhood* attribute. "
   ]
  },
  {
   "cell_type": "code",
   "execution_count": 167,
   "metadata": {
    "colab": {
     "base_uri": "https://localhost:8080/"
    },
    "executionInfo": {
     "elapsed": 18,
     "status": "ok",
     "timestamp": 1635406784818,
     "user": {
      "displayName": "MATTEO CEREGINI",
      "photoUrl": "https://lh3.googleusercontent.com/a/default-user=s64",
      "userId": "02488480816656216475"
     },
     "user_tz": -120
    },
    "id": "CgOsbL5h_2zr",
    "outputId": "b0e036ee-c27d-44c0-b85f-9083696ee81b"
   },
   "outputs": [
    {
     "data": {
      "text/plain": [
       "array(['JARDIM DA PENHA', 'MATA DA PRAIA', 'PONTAL DE CAMBURI',\n",
       "       'REPÚBLICA', 'GOIABEIRAS', 'ANDORINHAS', 'CONQUISTA',\n",
       "       'NOVA PALESTINA', 'DA PENHA', 'TABUAZEIRO', 'BENTO FERREIRA',\n",
       "       'SÃO PEDRO', 'SANTA MARTHA', 'SÃO CRISTÓVÃO', 'MARUÍPE',\n",
       "       'GRANDE VITÓRIA', 'SÃO BENEDITO', 'ILHA DAS CAIEIRAS',\n",
       "       'SANTO ANDRÉ', 'SOLON BORGES', 'BONFIM', 'JARDIM CAMBURI',\n",
       "       'MARIA ORTIZ', 'JABOUR', 'ANTÔNIO HONÓRIO', 'RESISTÊNCIA',\n",
       "       'ILHA DE SANTA MARIA', 'JUCUTUQUARA', 'MONTE BELO',\n",
       "       'MÁRIO CYPRESTE', 'SANTO ANTÔNIO', 'BELA VISTA', 'PRAIA DO SUÁ',\n",
       "       'SANTA HELENA', 'ITARARÉ', 'INHANGUETÁ', 'UNIVERSITÁRIO',\n",
       "       'SÃO JOSÉ', 'REDENÇÃO', 'SANTA CLARA', 'CENTRO', 'PARQUE MOSCOSO',\n",
       "       'DO MOSCOSO', 'SANTOS DUMONT', 'CARATOÍRA', 'ARIOVALDO FAVALESSA',\n",
       "       'ILHA DO FRADE', 'GURIGICA', 'JOANA D´ARC', 'CONSOLAÇÃO',\n",
       "       'PRAIA DO CANTO', 'BOA VISTA', 'MORADA DE CAMBURI', 'SANTA LUÍZA',\n",
       "       'SANTA LÚCIA', 'BARRO VERMELHO', 'ESTRELINHA', 'FORTE SÃO JOÃO',\n",
       "       'FONTE GRANDE', 'ENSEADA DO SUÁ', 'SANTOS REIS', 'PIEDADE',\n",
       "       'JESUS DE NAZARETH', 'SANTA TEREZA', 'CRUZAMENTO',\n",
       "       'ILHA DO PRÍNCIPE', 'ROMÃO', 'COMDUSA', 'SANTA CECÍLIA',\n",
       "       'VILA RUBIM', 'DE LOURDES', 'DO QUADRO', 'DO CABRAL', 'HORTO',\n",
       "       'SEGURANÇA DO LAR', 'ILHA DO BOI', 'FRADINHOS', 'NAZARETH',\n",
       "       'AEROPORTO', 'ILHAS OCEÂNICAS DE TRINDADE', 'PARQUE INDUSTRIAL'],\n",
       "      dtype=object)"
      ]
     },
     "execution_count": 167,
     "metadata": {},
     "output_type": "execute_result"
    }
   ],
   "source": [
    "df['Neighbourhood'].unique()"
   ]
  },
  {
   "cell_type": "code",
   "execution_count": 168,
   "metadata": {
    "colab": {
     "base_uri": "https://localhost:8080/"
    },
    "executionInfo": {
     "elapsed": 17,
     "status": "ok",
     "timestamp": 1635406784818,
     "user": {
      "displayName": "MATTEO CEREGINI",
      "photoUrl": "https://lh3.googleusercontent.com/a/default-user=s64",
      "userId": "02488480816656216475"
     },
     "user_tz": -120
    },
    "id": "S3YWbWv7l5OI",
    "outputId": "f8201ce7-b82e-4650-f768-64f4e1cc55a4"
   },
   "outputs": [
    {
     "data": {
      "text/plain": [
       "81"
      ]
     },
     "execution_count": 168,
     "metadata": {},
     "output_type": "execute_result"
    }
   ],
   "source": [
    "len(df['Neighbourhood'].unique())"
   ]
  },
  {
   "cell_type": "markdown",
   "metadata": {
    "id": "BXNOAA5DmEz4"
   },
   "source": [
    "The appointments took place in 81 different neighborhoods. We leave this attribute as it is since there appears to be no irregularities."
   ]
  },
  {
   "cell_type": "markdown",
   "metadata": {
    "id": "uc6p6P_ZnYWJ"
   },
   "source": [
    "### *Scholarship*"
   ]
  },
  {
   "cell_type": "markdown",
   "metadata": {
    "id": "tmLrDEurwILk"
   },
   "source": [
    "We check if there are any odd values for the *Scholarship* attribute. "
   ]
  },
  {
   "cell_type": "code",
   "execution_count": 169,
   "metadata": {
    "colab": {
     "base_uri": "https://localhost:8080/"
    },
    "executionInfo": {
     "elapsed": 17,
     "status": "ok",
     "timestamp": 1635406784819,
     "user": {
      "displayName": "MATTEO CEREGINI",
      "photoUrl": "https://lh3.googleusercontent.com/a/default-user=s64",
      "userId": "02488480816656216475"
     },
     "user_tz": -120
    },
    "id": "-2pLKU21A9sT",
    "outputId": "44bbea7f-9664-457b-ab33-d6f9d668bb9b"
   },
   "outputs": [
    {
     "data": {
      "text/plain": [
       "0    99665\n",
       "1    10861\n",
       "Name: Scholarship, dtype: int64"
      ]
     },
     "execution_count": 169,
     "metadata": {},
     "output_type": "execute_result"
    }
   ],
   "source": [
    "df['Scholarship'].value_counts().sort_index()"
   ]
  },
  {
   "cell_type": "markdown",
   "metadata": {
    "id": "NnJAEPkAwrET"
   },
   "source": [
    "### *Hipertension*"
   ]
  },
  {
   "cell_type": "markdown",
   "metadata": {
    "id": "cO2v1Q6FxbFB"
   },
   "source": [
    "We check if there are any odd values for the *Hipertension* attribute. \n"
   ]
  },
  {
   "cell_type": "code",
   "execution_count": 170,
   "metadata": {
    "colab": {
     "base_uri": "https://localhost:8080/"
    },
    "executionInfo": {
     "elapsed": 17,
     "status": "ok",
     "timestamp": 1635406784819,
     "user": {
      "displayName": "MATTEO CEREGINI",
      "photoUrl": "https://lh3.googleusercontent.com/a/default-user=s64",
      "userId": "02488480816656216475"
     },
     "user_tz": -120
    },
    "id": "gkn9n9P-BBus",
    "outputId": "73965cfe-f7a6-4ca7-b421-0b1d3fe5a26d"
   },
   "outputs": [
    {
     "data": {
      "text/plain": [
       "0    88725\n",
       "1    21801\n",
       "Name: Hipertension, dtype: int64"
      ]
     },
     "execution_count": 170,
     "metadata": {},
     "output_type": "execute_result"
    }
   ],
   "source": [
    "df['Hipertension'].value_counts().sort_index()"
   ]
  },
  {
   "cell_type": "markdown",
   "metadata": {
    "id": "fhd9ZvZfw2bF"
   },
   "source": [
    "### *Diabetes*"
   ]
  },
  {
   "cell_type": "markdown",
   "metadata": {
    "id": "S46NLh8LxdcT"
   },
   "source": [
    "We check if there are any odd values for the *Diabetes* attribute. \n"
   ]
  },
  {
   "cell_type": "code",
   "execution_count": 171,
   "metadata": {
    "colab": {
     "base_uri": "https://localhost:8080/"
    },
    "executionInfo": {
     "elapsed": 16,
     "status": "ok",
     "timestamp": 1635406784820,
     "user": {
      "displayName": "MATTEO CEREGINI",
      "photoUrl": "https://lh3.googleusercontent.com/a/default-user=s64",
      "userId": "02488480816656216475"
     },
     "user_tz": -120
    },
    "id": "9pOBjLXJA8G0",
    "outputId": "95296795-9bb8-4290-bbba-34759d6c6a84"
   },
   "outputs": [
    {
     "data": {
      "text/plain": [
       "0    102583\n",
       "1      7943\n",
       "Name: Diabetes, dtype: int64"
      ]
     },
     "execution_count": 171,
     "metadata": {},
     "output_type": "execute_result"
    }
   ],
   "source": [
    "df['Diabetes'].value_counts().sort_index()"
   ]
  },
  {
   "cell_type": "markdown",
   "metadata": {
    "id": "o8_T6Hdww5I7"
   },
   "source": [
    "### *Alcoholism*"
   ]
  },
  {
   "cell_type": "markdown",
   "metadata": {
    "id": "VPA4riHHxfwz"
   },
   "source": [
    "We check if there are any odd values for the *Alcoholism* attribute. \n"
   ]
  },
  {
   "cell_type": "code",
   "execution_count": 172,
   "metadata": {
    "colab": {
     "base_uri": "https://localhost:8080/"
    },
    "executionInfo": {
     "elapsed": 15,
     "status": "ok",
     "timestamp": 1635406784820,
     "user": {
      "displayName": "MATTEO CEREGINI",
      "photoUrl": "https://lh3.googleusercontent.com/a/default-user=s64",
      "userId": "02488480816656216475"
     },
     "user_tz": -120
    },
    "id": "Am2DizZrA9Lm",
    "outputId": "25a4806e-28a6-435b-8f9e-6125a46e277f"
   },
   "outputs": [
    {
     "data": {
      "text/plain": [
       "0    107166\n",
       "1      3360\n",
       "Name: Alcoholism, dtype: int64"
      ]
     },
     "execution_count": 172,
     "metadata": {},
     "output_type": "execute_result"
    }
   ],
   "source": [
    "df['Alcoholism'].value_counts().sort_index()"
   ]
  },
  {
   "cell_type": "markdown",
   "metadata": {
    "id": "Gx1ZQUhhxCtV"
   },
   "source": [
    "### *Handcap*"
   ]
  },
  {
   "cell_type": "markdown",
   "metadata": {
    "id": "_7gPKlEcxhxs"
   },
   "source": [
    "We check if there are any odd values for the *Handcap* attribute. \n"
   ]
  },
  {
   "cell_type": "code",
   "execution_count": 173,
   "metadata": {
    "colab": {
     "base_uri": "https://localhost:8080/"
    },
    "executionInfo": {
     "elapsed": 15,
     "status": "ok",
     "timestamp": 1635406784821,
     "user": {
      "displayName": "MATTEO CEREGINI",
      "photoUrl": "https://lh3.googleusercontent.com/a/default-user=s64",
      "userId": "02488480816656216475"
     },
     "user_tz": -120
    },
    "id": "5bTc4xTYAibv",
    "outputId": "ca60cb0a-3aa5-4cc1-ab74-bc426a4383d5"
   },
   "outputs": [
    {
     "data": {
      "text/plain": [
       "0    108285\n",
       "1      2042\n",
       "2       183\n",
       "3        13\n",
       "4         3\n",
       "Name: Handcap, dtype: int64"
      ]
     },
     "execution_count": 173,
     "metadata": {},
     "output_type": "execute_result"
    }
   ],
   "source": [
    "df['Handcap'].value_counts().sort_index()"
   ]
  },
  {
   "cell_type": "markdown",
   "metadata": {
    "id": "HQfFZgCtxHyT"
   },
   "source": [
    "### *SMS_received*"
   ]
  },
  {
   "cell_type": "markdown",
   "metadata": {
    "id": "WuewgNfcyIB4"
   },
   "source": [
    "We check if there are any odd values for the *SMS_received* attribute. "
   ]
  },
  {
   "cell_type": "code",
   "execution_count": 174,
   "metadata": {
    "colab": {
     "base_uri": "https://localhost:8080/"
    },
    "executionInfo": {
     "elapsed": 14,
     "status": "ok",
     "timestamp": 1635406784821,
     "user": {
      "displayName": "MATTEO CEREGINI",
      "photoUrl": "https://lh3.googleusercontent.com/a/default-user=s64",
      "userId": "02488480816656216475"
     },
     "user_tz": -120
    },
    "id": "-NAYzjVZBh9u",
    "outputId": "77d6b553-f324-47c2-c1b2-97b5597c6a74"
   },
   "outputs": [
    {
     "data": {
      "text/plain": [
       "0    75044\n",
       "1    35482\n",
       "Name: SMS_received, dtype: int64"
      ]
     },
     "execution_count": 174,
     "metadata": {},
     "output_type": "execute_result"
    }
   ],
   "source": [
    "df['SMS_received'].value_counts().sort_index()"
   ]
  },
  {
   "cell_type": "markdown",
   "metadata": {
    "id": "CH8Fva5ExKb-"
   },
   "source": [
    "### *No-show*"
   ]
  },
  {
   "cell_type": "markdown",
   "metadata": {
    "id": "8ebadWGeyf3j"
   },
   "source": [
    "We check if there are any odd values for the *No-show* attribute. "
   ]
  },
  {
   "cell_type": "code",
   "execution_count": 175,
   "metadata": {
    "colab": {
     "base_uri": "https://localhost:8080/"
    },
    "executionInfo": {
     "elapsed": 13,
     "status": "ok",
     "timestamp": 1635406784821,
     "user": {
      "displayName": "MATTEO CEREGINI",
      "photoUrl": "https://lh3.googleusercontent.com/a/default-user=s64",
      "userId": "02488480816656216475"
     },
     "user_tz": -120
    },
    "id": "izG_cnWHBlS8",
    "outputId": "cc6da85b-93b2-4c89-d11d-69b9e78379a6"
   },
   "outputs": [
    {
     "data": {
      "text/plain": [
       "No     88207\n",
       "Yes    22319\n",
       "Name: No-show, dtype: int64"
      ]
     },
     "execution_count": 175,
     "metadata": {},
     "output_type": "execute_result"
    }
   ],
   "source": [
    "df['No-show'].value_counts().sort_index()"
   ]
  },
  {
   "cell_type": "markdown",
   "metadata": {
    "id": "Pj0fwAAsyO-U"
   },
   "source": [
    "We change the values *Yes* and *No* with the integers 1 and 0 respectively. Also, we change the type of the attribute from string (object) to integer (int64)."
   ]
  },
  {
   "cell_type": "code",
   "execution_count": 176,
   "metadata": {
    "executionInfo": {
     "elapsed": 13,
     "status": "ok",
     "timestamp": 1635406784822,
     "user": {
      "displayName": "MATTEO CEREGINI",
      "photoUrl": "https://lh3.googleusercontent.com/a/default-user=s64",
      "userId": "02488480816656216475"
     },
     "user_tz": -120
    },
    "id": "BhUZpsL2By6E"
   },
   "outputs": [],
   "source": [
    "df.loc[(df['No-show'] == \"Yes\"), 'No-show'] = 1\n",
    "df.loc[(df['No-show'] == \"No\"), 'No-show'] = 0"
   ]
  },
  {
   "cell_type": "code",
   "execution_count": 177,
   "metadata": {
    "executionInfo": {
     "elapsed": 12,
     "status": "ok",
     "timestamp": 1635406784822,
     "user": {
      "displayName": "MATTEO CEREGINI",
      "photoUrl": "https://lh3.googleusercontent.com/a/default-user=s64",
      "userId": "02488480816656216475"
     },
     "user_tz": -120
    },
    "id": "0ttvvSxICzxT"
   },
   "outputs": [],
   "source": [
    "df[\"No-show\"] = df[\"No-show\"].astype(\"int64\")"
   ]
  },
  {
   "cell_type": "markdown",
   "metadata": {
    "id": "uLRdbDUOzojv"
   },
   "source": [
    "### Rename attributes"
   ]
  },
  {
   "cell_type": "markdown",
   "metadata": {
    "id": "cL4xLV_Bz6-X"
   },
   "source": [
    "We rename some attributes in order to correct some misspellings and assign more significant names, such as:\n",
    "\n",
    "*   *ScheduledDay* is renamed *ScheduledDate*.\n",
    "*   *AppointmentDay* is renamed *AppointmentDate*.\n",
    "*   *Scholarship* is renamed *FinancialAid*.\n"
   ]
  },
  {
   "cell_type": "code",
   "execution_count": 178,
   "metadata": {
    "executionInfo": {
     "elapsed": 296,
     "status": "ok",
     "timestamp": 1635406785106,
     "user": {
      "displayName": "MATTEO CEREGINI",
      "photoUrl": "https://lh3.googleusercontent.com/a/default-user=s64",
      "userId": "02488480816656216475"
     },
     "user_tz": -120
    },
    "id": "jcgWXhJnDjZG"
   },
   "outputs": [],
   "source": [
    "df = df.rename(columns={'PatientId': 'PatientID', \n",
    "                        'Hipertension': 'Hypertension', \n",
    "                        'Handcap': 'Handicap', \n",
    "                        'No-show': 'No_show', \n",
    "                        'ScheduledDay': 'ScheduledDate', \n",
    "                        'AppointmentDay': 'AppointmentDate',\n",
    "                        'Scholarship': 'FinancialAid'\n",
    "                        })"
   ]
  },
  {
   "cell_type": "code",
   "execution_count": 179,
   "metadata": {
    "colab": {
     "base_uri": "https://localhost:8080/"
    },
    "executionInfo": {
     "elapsed": 16,
     "status": "ok",
     "timestamp": 1635406785106,
     "user": {
      "displayName": "MATTEO CEREGINI",
      "photoUrl": "https://lh3.googleusercontent.com/a/default-user=s64",
      "userId": "02488480816656216475"
     },
     "user_tz": -120
    },
    "id": "bThAaHNtDD2k",
    "outputId": "25c3d356-d2cf-45cc-85b9-5207876451df"
   },
   "outputs": [
    {
     "name": "stdout",
     "output_type": "stream",
     "text": [
      "<class 'pandas.core.frame.DataFrame'>\n",
      "Int64Index: 110526 entries, 0 to 110526\n",
      "Data columns (total 14 columns):\n",
      " #   Column           Non-Null Count   Dtype         \n",
      "---  ------           --------------   -----         \n",
      " 0   PatientID        110526 non-null  float64       \n",
      " 1   AppointmentID    110526 non-null  int64         \n",
      " 2   Gender           110526 non-null  object        \n",
      " 3   ScheduledDate    110526 non-null  datetime64[ns]\n",
      " 4   AppointmentDate  110526 non-null  datetime64[ns]\n",
      " 5   Age              110526 non-null  int64         \n",
      " 6   Neighbourhood    110526 non-null  object        \n",
      " 7   FinancialAid     110526 non-null  int64         \n",
      " 8   Hypertension     110526 non-null  int64         \n",
      " 9   Diabetes         110526 non-null  int64         \n",
      " 10  Alcoholism       110526 non-null  int64         \n",
      " 11  Handicap         110526 non-null  int64         \n",
      " 12  SMS_received     110526 non-null  int64         \n",
      " 13  No_show          110526 non-null  int64         \n",
      "dtypes: datetime64[ns](2), float64(1), int64(9), object(2)\n",
      "memory usage: 12.6+ MB\n"
     ]
    }
   ],
   "source": [
    "df.info()"
   ]
  },
  {
   "cell_type": "markdown",
   "metadata": {
    "id": "mct9d2hu1EbA"
   },
   "source": [
    "<a id='feature_eng'></a>\n",
    "# Feature Engineering"
   ]
  },
  {
   "cell_type": "markdown",
   "metadata": {
    "id": "EhmFK6911Tya"
   },
   "source": [
    "In order to better explicitate information hidden in the original data we add the following new features:\n",
    "\n",
    "\n",
    "*   **AppointmentDay**: the day of the week in which the appointment should take place.\n",
    "*   **WaitingDays**: number of days between the day of the reservation and the actual day of the appointment.\n",
    "*   **WaitingTime**: it categorizes the number of days the patient needs to wait into five categories: *Same Day*, *Short*, *Medium*, *High*, *Very High*.\n",
    "*   **AgeGroup**: the age group of the patient (child, youth, adult, senior). \n",
    "*   **HasHandicap**: indicates whether the patient has some kind of handicap or not.\n",
    "\n",
    "\n",
    "\n",
    "\n"
   ]
  },
  {
   "cell_type": "markdown",
   "metadata": {
    "id": "x-4WJPa-d6u1"
   },
   "source": [
    "Also, for each record we add two new attributes that characterize the patient's history up to the current appointment:\n",
    "\n",
    "\n",
    "*   **PrevAppointments**: total number of appointments preceding the current one.\n",
    "*   **PrevNoShowRatio**: the no-show ratio up to the current appointment. We assign the value 0 to records referring to the first appointment of a patient.\n",
    "\n"
   ]
  },
  {
   "cell_type": "markdown",
   "metadata": {
    "id": "AAzIYoAT38U5"
   },
   "source": [
    "### *AppointmentDay*"
   ]
  },
  {
   "cell_type": "code",
   "execution_count": 180,
   "metadata": {
    "executionInfo": {
     "elapsed": 15,
     "status": "ok",
     "timestamp": 1635406785107,
     "user": {
      "displayName": "MATTEO CEREGINI",
      "photoUrl": "https://lh3.googleusercontent.com/a/default-user=s64",
      "userId": "02488480816656216475"
     },
     "user_tz": -120
    },
    "id": "z7kAw_biQuuS"
   },
   "outputs": [],
   "source": [
    "df['AppointmentDay'] = df['AppointmentDate'].dt.day_name()"
   ]
  },
  {
   "cell_type": "code",
   "execution_count": 181,
   "metadata": {
    "executionInfo": {
     "elapsed": 17,
     "status": "ok",
     "timestamp": 1635406785110,
     "user": {
      "displayName": "MATTEO CEREGINI",
      "photoUrl": "https://lh3.googleusercontent.com/a/default-user=s64",
      "userId": "02488480816656216475"
     },
     "user_tz": -120
    },
    "id": "8b6EbEs_U39P"
   },
   "outputs": [],
   "source": [
    "df['AppointmentDay'] = pd.Categorical(df['AppointmentDay'], [\"Monday\", \"Tuesday\", \"Wednesday\", \"Thursday\", \"Friday\", \"Saturday\", \"Sunday\"])"
   ]
  },
  {
   "cell_type": "markdown",
   "metadata": {
    "id": "gqlCaeAM3-pd"
   },
   "source": [
    "### *WaitingDays*"
   ]
  },
  {
   "cell_type": "code",
   "execution_count": 182,
   "metadata": {
    "executionInfo": {
     "elapsed": 17,
     "status": "ok",
     "timestamp": 1635406785110,
     "user": {
      "displayName": "MATTEO CEREGINI",
      "photoUrl": "https://lh3.googleusercontent.com/a/default-user=s64",
      "userId": "02488480816656216475"
     },
     "user_tz": -120
    },
    "id": "kv-PY43CVQ9P"
   },
   "outputs": [],
   "source": [
    "df['WaitingDays'] = df['AppointmentDate'] - df['ScheduledDate']\n",
    "df['WaitingDays'] = df['WaitingDays'].dt.days"
   ]
  },
  {
   "cell_type": "markdown",
   "metadata": {
    "id": "00-co2It7Cjh"
   },
   "source": [
    "We check if there are some records with negative *WaitingDays* value."
   ]
  },
  {
   "cell_type": "code",
   "execution_count": 183,
   "metadata": {
    "colab": {
     "base_uri": "https://localhost:8080/",
     "height": 258
    },
    "executionInfo": {
     "elapsed": 18,
     "status": "ok",
     "timestamp": 1635406785111,
     "user": {
      "displayName": "MATTEO CEREGINI",
      "photoUrl": "https://lh3.googleusercontent.com/a/default-user=s64",
      "userId": "02488480816656216475"
     },
     "user_tz": -120
    },
    "id": "VXVdkmd86jgj",
    "outputId": "ad42699c-8346-4905-a611-d1e7da8d1365"
   },
   "outputs": [
    {
     "data": {
      "text/html": [
       "<div>\n",
       "<style scoped>\n",
       "    .dataframe tbody tr th:only-of-type {\n",
       "        vertical-align: middle;\n",
       "    }\n",
       "\n",
       "    .dataframe tbody tr th {\n",
       "        vertical-align: top;\n",
       "    }\n",
       "\n",
       "    .dataframe thead th {\n",
       "        text-align: right;\n",
       "    }\n",
       "</style>\n",
       "<table border=\"1\" class=\"dataframe\">\n",
       "  <thead>\n",
       "    <tr style=\"text-align: right;\">\n",
       "      <th></th>\n",
       "      <th>PatientID</th>\n",
       "      <th>AppointmentID</th>\n",
       "      <th>Gender</th>\n",
       "      <th>ScheduledDate</th>\n",
       "      <th>AppointmentDate</th>\n",
       "      <th>Age</th>\n",
       "      <th>Neighbourhood</th>\n",
       "      <th>FinancialAid</th>\n",
       "      <th>Hypertension</th>\n",
       "      <th>Diabetes</th>\n",
       "      <th>Alcoholism</th>\n",
       "      <th>Handicap</th>\n",
       "      <th>SMS_received</th>\n",
       "      <th>No_show</th>\n",
       "      <th>AppointmentDay</th>\n",
       "      <th>WaitingDays</th>\n",
       "    </tr>\n",
       "  </thead>\n",
       "  <tbody>\n",
       "    <tr>\n",
       "      <th>27033</th>\n",
       "      <td>7.839273e+12</td>\n",
       "      <td>5679978</td>\n",
       "      <td>M</td>\n",
       "      <td>2016-05-10</td>\n",
       "      <td>2016-05-09</td>\n",
       "      <td>38</td>\n",
       "      <td>RESISTÊNCIA</td>\n",
       "      <td>0</td>\n",
       "      <td>0</td>\n",
       "      <td>0</td>\n",
       "      <td>0</td>\n",
       "      <td>1</td>\n",
       "      <td>0</td>\n",
       "      <td>1</td>\n",
       "      <td>Monday</td>\n",
       "      <td>-1</td>\n",
       "    </tr>\n",
       "    <tr>\n",
       "      <th>55226</th>\n",
       "      <td>7.896294e+12</td>\n",
       "      <td>5715660</td>\n",
       "      <td>F</td>\n",
       "      <td>2016-05-18</td>\n",
       "      <td>2016-05-17</td>\n",
       "      <td>19</td>\n",
       "      <td>SANTO ANTÔNIO</td>\n",
       "      <td>0</td>\n",
       "      <td>0</td>\n",
       "      <td>0</td>\n",
       "      <td>0</td>\n",
       "      <td>1</td>\n",
       "      <td>0</td>\n",
       "      <td>1</td>\n",
       "      <td>Tuesday</td>\n",
       "      <td>-1</td>\n",
       "    </tr>\n",
       "    <tr>\n",
       "      <th>64175</th>\n",
       "      <td>2.425226e+13</td>\n",
       "      <td>5664962</td>\n",
       "      <td>F</td>\n",
       "      <td>2016-05-05</td>\n",
       "      <td>2016-05-04</td>\n",
       "      <td>22</td>\n",
       "      <td>CONSOLAÇÃO</td>\n",
       "      <td>0</td>\n",
       "      <td>0</td>\n",
       "      <td>0</td>\n",
       "      <td>0</td>\n",
       "      <td>0</td>\n",
       "      <td>0</td>\n",
       "      <td>1</td>\n",
       "      <td>Wednesday</td>\n",
       "      <td>-1</td>\n",
       "    </tr>\n",
       "    <tr>\n",
       "      <th>71533</th>\n",
       "      <td>9.982316e+14</td>\n",
       "      <td>5686628</td>\n",
       "      <td>F</td>\n",
       "      <td>2016-05-11</td>\n",
       "      <td>2016-05-05</td>\n",
       "      <td>81</td>\n",
       "      <td>SANTO ANTÔNIO</td>\n",
       "      <td>0</td>\n",
       "      <td>0</td>\n",
       "      <td>0</td>\n",
       "      <td>0</td>\n",
       "      <td>0</td>\n",
       "      <td>0</td>\n",
       "      <td>1</td>\n",
       "      <td>Thursday</td>\n",
       "      <td>-6</td>\n",
       "    </tr>\n",
       "    <tr>\n",
       "      <th>72362</th>\n",
       "      <td>3.787482e+12</td>\n",
       "      <td>5655637</td>\n",
       "      <td>M</td>\n",
       "      <td>2016-05-04</td>\n",
       "      <td>2016-05-03</td>\n",
       "      <td>7</td>\n",
       "      <td>TABUAZEIRO</td>\n",
       "      <td>0</td>\n",
       "      <td>0</td>\n",
       "      <td>0</td>\n",
       "      <td>0</td>\n",
       "      <td>0</td>\n",
       "      <td>0</td>\n",
       "      <td>1</td>\n",
       "      <td>Tuesday</td>\n",
       "      <td>-1</td>\n",
       "    </tr>\n",
       "  </tbody>\n",
       "</table>\n",
       "</div>"
      ],
      "text/plain": [
       "          PatientID  AppointmentID Gender  ... No_show AppointmentDay  WaitingDays\n",
       "27033  7.839273e+12        5679978      M  ...       1         Monday           -1\n",
       "55226  7.896294e+12        5715660      F  ...       1        Tuesday           -1\n",
       "64175  2.425226e+13        5664962      F  ...       1      Wednesday           -1\n",
       "71533  9.982316e+14        5686628      F  ...       1       Thursday           -6\n",
       "72362  3.787482e+12        5655637      M  ...       1        Tuesday           -1\n",
       "\n",
       "[5 rows x 16 columns]"
      ]
     },
     "execution_count": 183,
     "metadata": {},
     "output_type": "execute_result"
    }
   ],
   "source": [
    "df[df['WaitingDays'] < 0]"
   ]
  },
  {
   "cell_type": "markdown",
   "metadata": {
    "id": "Ul_I8YvG7S-A"
   },
   "source": [
    "There are only five records with negative *WaitingDays* value. We assume that the negative values come from some insertion errors of the attribute *AppointmentDate*. For this reason we decide to delete these records from the dataset."
   ]
  },
  {
   "cell_type": "code",
   "execution_count": 184,
   "metadata": {
    "executionInfo": {
     "elapsed": 18,
     "status": "ok",
     "timestamp": 1635406785112,
     "user": {
      "displayName": "MATTEO CEREGINI",
      "photoUrl": "https://lh3.googleusercontent.com/a/default-user=s64",
      "userId": "02488480816656216475"
     },
     "user_tz": -120
    },
    "id": "2HMHTPsNVjj2"
   },
   "outputs": [],
   "source": [
    "df = df[df['WaitingDays'] >= 0]"
   ]
  },
  {
   "cell_type": "markdown",
   "metadata": {
    "id": "av-A3QbE4pJd"
   },
   "source": [
    "### *WaitingTime*"
   ]
  },
  {
   "cell_type": "markdown",
   "metadata": {
    "id": "k4zRxf278yaZ"
   },
   "source": [
    "We consider the following ranges to categorize the waiting days:\n",
    "\n",
    "\n",
    "*   *Same Day*: the appointment is on the same day of the reservation.\n",
    "*   *Short*: the number of waiting days is in the range \\[1, 7\\].\n",
    "*   *Medium*: the number of waiting days is in the range \\[8, 15\\].\n",
    "*   *High*: the number of waiting days is in the range \\[16, 30\\].\n",
    "*   *Very High*: the number of waiting days is greater than or equal to 31.\n",
    "\n"
   ]
  },
  {
   "cell_type": "code",
   "execution_count": 185,
   "metadata": {
    "executionInfo": {
     "elapsed": 17,
     "status": "ok",
     "timestamp": 1635406785112,
     "user": {
      "displayName": "MATTEO CEREGINI",
      "photoUrl": "https://lh3.googleusercontent.com/a/default-user=s64",
      "userId": "02488480816656216475"
     },
     "user_tz": -120
    },
    "id": "7CyrUOdRPkyS"
   },
   "outputs": [],
   "source": [
    "def get_waiting_time(days):\n",
    "  if days == 0:\n",
    "    return \"Same Day\"\n",
    "  if 1 <= days <= 7:\n",
    "    return \"Short\"\n",
    "  if 8 <= days <= 15:\n",
    "    return \"Medium\"\n",
    "  if 16 <= days <= 30:\n",
    "    return \"High\"\n",
    "  if days >= 31:\n",
    "    return \"Very High\""
   ]
  },
  {
   "cell_type": "code",
   "execution_count": 186,
   "metadata": {
    "executionInfo": {
     "elapsed": 18,
     "status": "ok",
     "timestamp": 1635406785113,
     "user": {
      "displayName": "MATTEO CEREGINI",
      "photoUrl": "https://lh3.googleusercontent.com/a/default-user=s64",
      "userId": "02488480816656216475"
     },
     "user_tz": -120
    },
    "id": "SRv0xP9zNlop"
   },
   "outputs": [],
   "source": [
    "df['WaitingTime'] = df['WaitingDays'].apply(get_waiting_time)\n"
   ]
  },
  {
   "cell_type": "code",
   "execution_count": 187,
   "metadata": {
    "executionInfo": {
     "elapsed": 19,
     "status": "ok",
     "timestamp": 1635406785114,
     "user": {
      "displayName": "MATTEO CEREGINI",
      "photoUrl": "https://lh3.googleusercontent.com/a/default-user=s64",
      "userId": "02488480816656216475"
     },
     "user_tz": -120
    },
    "id": "Jkd-z8cWSSDZ"
   },
   "outputs": [],
   "source": [
    "df['WaitingTime'] = pd.Categorical(df['WaitingTime'], [\"Same Day\", \"Short\", \"Medium\", \"High\", \"Very High\"])"
   ]
  },
  {
   "cell_type": "markdown",
   "metadata": {
    "id": "lHpLhMwq4Do-"
   },
   "source": [
    "### *AgeGroup*"
   ]
  },
  {
   "cell_type": "markdown",
   "metadata": {
    "id": "oVuhMGy--fgY"
   },
   "source": [
    "We consider the following ranges to categorize the age groups:\n",
    "\n",
    "\n",
    "*   *Child*: the age of the patient is less than or equal to 14 years.\n",
    "*   *Youth*: the age of the patient is in the range \\[15, 24\\] years.\n",
    "*   *Adult*: the age of the patient is in the range \\[25, 64\\] years.\n",
    "*   *Senior*: the age of the patient is greater than or equal to 65 years."
   ]
  },
  {
   "cell_type": "code",
   "execution_count": 188,
   "metadata": {
    "executionInfo": {
     "elapsed": 20,
     "status": "ok",
     "timestamp": 1635406785116,
     "user": {
      "displayName": "MATTEO CEREGINI",
      "photoUrl": "https://lh3.googleusercontent.com/a/default-user=s64",
      "userId": "02488480816656216475"
     },
     "user_tz": -120
    },
    "id": "CKr7k8Qe1d26"
   },
   "outputs": [],
   "source": [
    "def get_age_group(age):\n",
    "  if age <= 14:\n",
    "    return \"Child\"\n",
    "  elif age < 25:\n",
    "    return \"Youth\"\n",
    "  elif age < 65:\n",
    "    return \"Adult\"\n",
    "  else:\n",
    "    return \"Senior\""
   ]
  },
  {
   "cell_type": "code",
   "execution_count": 189,
   "metadata": {
    "executionInfo": {
     "elapsed": 21,
     "status": "ok",
     "timestamp": 1635406785117,
     "user": {
      "displayName": "MATTEO CEREGINI",
      "photoUrl": "https://lh3.googleusercontent.com/a/default-user=s64",
      "userId": "02488480816656216475"
     },
     "user_tz": -120
    },
    "id": "cvJif0ZR3Rar"
   },
   "outputs": [],
   "source": [
    "df['AgeGroup'] = df['Age'].apply(get_age_group)\n",
    "df['AgeGroup'] = pd.Categorical(df['AgeGroup'], [\"Child\", \"Youth\", \"Adult\", \"Senior\"])"
   ]
  },
  {
   "cell_type": "markdown",
   "metadata": {
    "id": "q0xLXsrp_UlQ"
   },
   "source": [
    "### *HasHandicap*"
   ]
  },
  {
   "cell_type": "code",
   "execution_count": 190,
   "metadata": {
    "executionInfo": {
     "elapsed": 22,
     "status": "ok",
     "timestamp": 1635406785118,
     "user": {
      "displayName": "MATTEO CEREGINI",
      "photoUrl": "https://lh3.googleusercontent.com/a/default-user=s64",
      "userId": "02488480816656216475"
     },
     "user_tz": -120
    },
    "id": "8DF5nFh4Kcxw"
   },
   "outputs": [],
   "source": [
    "def has_handicap(handicap_count):\n",
    "  if handicap_count > 0:\n",
    "    return 1\n",
    "  else:\n",
    "    return 0"
   ]
  },
  {
   "cell_type": "code",
   "execution_count": 191,
   "metadata": {
    "executionInfo": {
     "elapsed": 23,
     "status": "ok",
     "timestamp": 1635406785120,
     "user": {
      "displayName": "MATTEO CEREGINI",
      "photoUrl": "https://lh3.googleusercontent.com/a/default-user=s64",
      "userId": "02488480816656216475"
     },
     "user_tz": -120
    },
    "id": "_uFOGai3K1f8"
   },
   "outputs": [],
   "source": [
    "df['HasHandicap'] = df['Handicap'].apply(has_handicap)"
   ]
  },
  {
   "cell_type": "markdown",
   "metadata": {
    "id": "bHCfFwkXdnGd"
   },
   "source": [
    "### Patient's history related attributes"
   ]
  },
  {
   "cell_type": "code",
   "execution_count": 192,
   "metadata": {
    "executionInfo": {
     "elapsed": 10399,
     "status": "ok",
     "timestamp": 1635406795769,
     "user": {
      "displayName": "MATTEO CEREGINI",
      "photoUrl": "https://lh3.googleusercontent.com/a/default-user=s64",
      "userId": "02488480816656216475"
     },
     "user_tz": -120
    },
    "id": "oEkiSifhMR-k"
   },
   "outputs": [],
   "source": [
    "df.sort_values([\"PatientID\",\"AppointmentDate\"], inplace=True)\n",
    "\n",
    "prev_no_show = []\n",
    "prev_appointments = []\n",
    "\n",
    "previous_patient = None\n",
    "\n",
    "number_of_prev_app = 0\n",
    "number_of_prev_no_show = 0\n",
    "\n",
    "for index, row in df.iterrows():\n",
    "  current_patient = row['PatientID']\n",
    "  if current_patient != previous_patient:\n",
    "    prev_no_show.append(0)\n",
    "    prev_appointments.append(0)\n",
    "    # Assigning variables for the next iteration\n",
    "    number_of_prev_app = 1\n",
    "    if row['No_show'] == 1:\n",
    "      number_of_prev_no_show = 1\n",
    "    else:\n",
    "      number_of_prev_no_show = 0\n",
    "    previous_patient = current_patient\n",
    "  else:\n",
    "    prev_no_show.append(number_of_prev_no_show)\n",
    "    prev_appointments.append(number_of_prev_app)\n",
    "    if row['No_show'] == 1:\n",
    "      number_of_prev_no_show += 1\n",
    "    number_of_prev_app += 1\n",
    "\n",
    "df['PrevAppointments'] = prev_appointments\n",
    "df['PrevNoShow'] = prev_no_show\n",
    "df['PrevNoShowRatio'] = df[df['PrevAppointments'] > 0]['PrevNoShow'] / df[df['PrevAppointments'] > 0]['PrevAppointments']\n",
    "\n",
    "df.drop(['PrevNoShow'], axis=1, inplace=True)\n",
    "\n",
    "df['PrevNoShowRatio'].fillna(value=0, inplace=True)"
   ]
  },
  {
   "cell_type": "code",
   "execution_count": 193,
   "metadata": {
    "colab": {
     "base_uri": "https://localhost:8080/"
    },
    "executionInfo": {
     "elapsed": 24,
     "status": "ok",
     "timestamp": 1635406795770,
     "user": {
      "displayName": "MATTEO CEREGINI",
      "photoUrl": "https://lh3.googleusercontent.com/a/default-user=s64",
      "userId": "02488480816656216475"
     },
     "user_tz": -120
    },
    "id": "K747zdO8ABbL",
    "outputId": "4279f135-f612-4996-bd9f-cfdb517a591a"
   },
   "outputs": [
    {
     "name": "stdout",
     "output_type": "stream",
     "text": [
      "<class 'pandas.core.frame.DataFrame'>\n",
      "Int64Index: 110521 entries, 100517 to 76224\n",
      "Data columns (total 21 columns):\n",
      " #   Column            Non-Null Count   Dtype         \n",
      "---  ------            --------------   -----         \n",
      " 0   PatientID         110521 non-null  float64       \n",
      " 1   AppointmentID     110521 non-null  int64         \n",
      " 2   Gender            110521 non-null  object        \n",
      " 3   ScheduledDate     110521 non-null  datetime64[ns]\n",
      " 4   AppointmentDate   110521 non-null  datetime64[ns]\n",
      " 5   Age               110521 non-null  int64         \n",
      " 6   Neighbourhood     110521 non-null  object        \n",
      " 7   FinancialAid      110521 non-null  int64         \n",
      " 8   Hypertension      110521 non-null  int64         \n",
      " 9   Diabetes          110521 non-null  int64         \n",
      " 10  Alcoholism        110521 non-null  int64         \n",
      " 11  Handicap          110521 non-null  int64         \n",
      " 12  SMS_received      110521 non-null  int64         \n",
      " 13  No_show           110521 non-null  int64         \n",
      " 14  AppointmentDay    110521 non-null  category      \n",
      " 15  WaitingDays       110521 non-null  int64         \n",
      " 16  WaitingTime       110521 non-null  category      \n",
      " 17  AgeGroup          110521 non-null  category      \n",
      " 18  HasHandicap       110521 non-null  int64         \n",
      " 19  PrevAppointments  110521 non-null  int64         \n",
      " 20  PrevNoShowRatio   110521 non-null  float64       \n",
      "dtypes: category(3), datetime64[ns](2), float64(2), int64(12), object(2)\n",
      "memory usage: 16.3+ MB\n"
     ]
    }
   ],
   "source": [
    "df.info()"
   ]
  },
  {
   "cell_type": "code",
   "execution_count": 194,
   "metadata": {
    "colab": {
     "base_uri": "https://localhost:8080/",
     "height": 292
    },
    "executionInfo": {
     "elapsed": 21,
     "status": "ok",
     "timestamp": 1635406795773,
     "user": {
      "displayName": "MATTEO CEREGINI",
      "photoUrl": "https://lh3.googleusercontent.com/a/default-user=s64",
      "userId": "02488480816656216475"
     },
     "user_tz": -120
    },
    "id": "uGcjw5zSAG5M",
    "outputId": "cf68ca55-b10e-49f3-80fe-40107dbf43fc"
   },
   "outputs": [
    {
     "data": {
      "text/html": [
       "<div>\n",
       "<style scoped>\n",
       "    .dataframe tbody tr th:only-of-type {\n",
       "        vertical-align: middle;\n",
       "    }\n",
       "\n",
       "    .dataframe tbody tr th {\n",
       "        vertical-align: top;\n",
       "    }\n",
       "\n",
       "    .dataframe thead th {\n",
       "        text-align: right;\n",
       "    }\n",
       "</style>\n",
       "<table border=\"1\" class=\"dataframe\">\n",
       "  <thead>\n",
       "    <tr style=\"text-align: right;\">\n",
       "      <th></th>\n",
       "      <th>PatientID</th>\n",
       "      <th>AppointmentID</th>\n",
       "      <th>Gender</th>\n",
       "      <th>ScheduledDate</th>\n",
       "      <th>AppointmentDate</th>\n",
       "      <th>Age</th>\n",
       "      <th>Neighbourhood</th>\n",
       "      <th>FinancialAid</th>\n",
       "      <th>Hypertension</th>\n",
       "      <th>Diabetes</th>\n",
       "      <th>Alcoholism</th>\n",
       "      <th>Handicap</th>\n",
       "      <th>SMS_received</th>\n",
       "      <th>No_show</th>\n",
       "      <th>AppointmentDay</th>\n",
       "      <th>WaitingDays</th>\n",
       "      <th>WaitingTime</th>\n",
       "      <th>AgeGroup</th>\n",
       "      <th>HasHandicap</th>\n",
       "      <th>PrevAppointments</th>\n",
       "      <th>PrevNoShowRatio</th>\n",
       "    </tr>\n",
       "  </thead>\n",
       "  <tbody>\n",
       "    <tr>\n",
       "      <th>41424</th>\n",
       "      <td>9.656834e+14</td>\n",
       "      <td>5737521</td>\n",
       "      <td>F</td>\n",
       "      <td>2016-05-25</td>\n",
       "      <td>2016-05-31</td>\n",
       "      <td>32</td>\n",
       "      <td>JABOUR</td>\n",
       "      <td>1</td>\n",
       "      <td>1</td>\n",
       "      <td>0</td>\n",
       "      <td>0</td>\n",
       "      <td>0</td>\n",
       "      <td>1</td>\n",
       "      <td>0</td>\n",
       "      <td>Tuesday</td>\n",
       "      <td>6</td>\n",
       "      <td>Short</td>\n",
       "      <td>Adult</td>\n",
       "      <td>0</td>\n",
       "      <td>2</td>\n",
       "      <td>0.0</td>\n",
       "    </tr>\n",
       "    <tr>\n",
       "      <th>65410</th>\n",
       "      <td>8.993716e+13</td>\n",
       "      <td>5532963</td>\n",
       "      <td>M</td>\n",
       "      <td>2016-03-31</td>\n",
       "      <td>2016-05-16</td>\n",
       "      <td>2</td>\n",
       "      <td>JARDIM CAMBURI</td>\n",
       "      <td>0</td>\n",
       "      <td>0</td>\n",
       "      <td>0</td>\n",
       "      <td>0</td>\n",
       "      <td>0</td>\n",
       "      <td>0</td>\n",
       "      <td>1</td>\n",
       "      <td>Monday</td>\n",
       "      <td>46</td>\n",
       "      <td>Very High</td>\n",
       "      <td>Child</td>\n",
       "      <td>0</td>\n",
       "      <td>0</td>\n",
       "      <td>0.0</td>\n",
       "    </tr>\n",
       "    <tr>\n",
       "      <th>65763</th>\n",
       "      <td>6.821990e+13</td>\n",
       "      <td>5521103</td>\n",
       "      <td>F</td>\n",
       "      <td>2016-03-29</td>\n",
       "      <td>2016-05-30</td>\n",
       "      <td>6</td>\n",
       "      <td>JARDIM CAMBURI</td>\n",
       "      <td>0</td>\n",
       "      <td>0</td>\n",
       "      <td>0</td>\n",
       "      <td>0</td>\n",
       "      <td>0</td>\n",
       "      <td>1</td>\n",
       "      <td>1</td>\n",
       "      <td>Monday</td>\n",
       "      <td>62</td>\n",
       "      <td>Very High</td>\n",
       "      <td>Child</td>\n",
       "      <td>0</td>\n",
       "      <td>0</td>\n",
       "      <td>0.0</td>\n",
       "    </tr>\n",
       "    <tr>\n",
       "      <th>54319</th>\n",
       "      <td>9.411232e+11</td>\n",
       "      <td>5682928</td>\n",
       "      <td>M</td>\n",
       "      <td>2016-05-11</td>\n",
       "      <td>2016-05-19</td>\n",
       "      <td>18</td>\n",
       "      <td>ILHA DO PRÍNCIPE</td>\n",
       "      <td>1</td>\n",
       "      <td>0</td>\n",
       "      <td>0</td>\n",
       "      <td>0</td>\n",
       "      <td>0</td>\n",
       "      <td>0</td>\n",
       "      <td>0</td>\n",
       "      <td>Thursday</td>\n",
       "      <td>8</td>\n",
       "      <td>Medium</td>\n",
       "      <td>Youth</td>\n",
       "      <td>0</td>\n",
       "      <td>2</td>\n",
       "      <td>0.5</td>\n",
       "    </tr>\n",
       "    <tr>\n",
       "      <th>71149</th>\n",
       "      <td>7.797755e+12</td>\n",
       "      <td>5655806</td>\n",
       "      <td>F</td>\n",
       "      <td>2016-05-04</td>\n",
       "      <td>2016-05-04</td>\n",
       "      <td>0</td>\n",
       "      <td>FONTE GRANDE</td>\n",
       "      <td>0</td>\n",
       "      <td>0</td>\n",
       "      <td>0</td>\n",
       "      <td>0</td>\n",
       "      <td>0</td>\n",
       "      <td>0</td>\n",
       "      <td>0</td>\n",
       "      <td>Wednesday</td>\n",
       "      <td>0</td>\n",
       "      <td>Same Day</td>\n",
       "      <td>Child</td>\n",
       "      <td>0</td>\n",
       "      <td>1</td>\n",
       "      <td>0.0</td>\n",
       "    </tr>\n",
       "  </tbody>\n",
       "</table>\n",
       "</div>"
      ],
      "text/plain": [
       "          PatientID  AppointmentID  ... PrevAppointments PrevNoShowRatio\n",
       "41424  9.656834e+14        5737521  ...                2             0.0\n",
       "65410  8.993716e+13        5532963  ...                0             0.0\n",
       "65763  6.821990e+13        5521103  ...                0             0.0\n",
       "54319  9.411232e+11        5682928  ...                2             0.5\n",
       "71149  7.797755e+12        5655806  ...                1             0.0\n",
       "\n",
       "[5 rows x 21 columns]"
      ]
     },
     "execution_count": 194,
     "metadata": {},
     "output_type": "execute_result"
    }
   ],
   "source": [
    "df.sample(5)"
   ]
  },
  {
   "cell_type": "markdown",
   "metadata": {
    "id": "A0aQadpr6xBq"
   },
   "source": [
    "<a id='exploratory_analysis'></a>\n",
    "# Exploratory Analysis"
   ]
  },
  {
   "cell_type": "markdown",
   "metadata": {
    "id": "6dpaHo6GDCvU"
   },
   "source": [
    "### *No-Show*"
   ]
  },
  {
   "cell_type": "markdown",
   "metadata": {
    "id": "ijHccmY1AZRg"
   },
   "source": [
    "First of all, we visualize the percentage of show and no-show appointments."
   ]
  },
  {
   "cell_type": "code",
   "execution_count": 195,
   "metadata": {
    "colab": {
     "base_uri": "https://localhost:8080/",
     "height": 375
    },
    "executionInfo": {
     "elapsed": 652,
     "status": "ok",
     "timestamp": 1635406796405,
     "user": {
      "displayName": "MATTEO CEREGINI",
      "photoUrl": "https://lh3.googleusercontent.com/a/default-user=s64",
      "userId": "02488480816656216475"
     },
     "user_tz": -120
    },
    "id": "5sXHI1qj62f0",
    "outputId": "fa1fc0a6-d4a9-4e05-eb1d-0200a1360e33"
   },
   "outputs": [
    {
     "data": {
      "image/png": "[encoded data removed]",
      "text/plain": [
       "<Figure size 576x432 with 1 Axes>"
      ]
     },
     "metadata": {},
     "output_type": "display_data"
    }
   ],
   "source": [
    "# Ratio between show and no-show appointments\n",
    "fig = plt.figure(figsize =(8, 6))\n",
    "\n",
    "blues = [\"#3182BD\",\"#C6DBEF\"]\n",
    "my_labels = [\"Show\", \"No Show\"]\n",
    "plt.title('Show and No Show Percentage', fontsize=16)\n",
    "plt.pie(df['No_show'].value_counts(), labels=my_labels, autopct='%1.1f%%', colors=blues, textprops={'fontsize': 14})\n",
    "plt.show()"
   ]
  },
  {
   "cell_type": "markdown",
   "metadata": {
    "id": "ZsdcYjQQA45J"
   },
   "source": [
    "The dataset is unbalanced. This fact is expected since the majority of people that book a medical examination will show up to the appointment."
   ]
  },
  {
   "cell_type": "markdown",
   "metadata": {
    "id": "6Z9TxHJTDG_q"
   },
   "source": [
    "### *Age*"
   ]
  },
  {
   "cell_type": "markdown",
   "metadata": {
    "id": "BacrAHmmDNk_"
   },
   "source": [
    "We analyse the distribution of the attribute *Age* to see if there are any outliers, then we visualize the percentage of appointments for each age group."
   ]
  },
  {
   "cell_type": "code",
   "execution_count": 196,
   "metadata": {
    "colab": {
     "base_uri": "https://localhost:8080/",
     "height": 421
    },
    "executionInfo": {
     "elapsed": 19,
     "status": "ok",
     "timestamp": 1635406796406,
     "user": {
      "displayName": "MATTEO CEREGINI",
      "photoUrl": "https://lh3.googleusercontent.com/a/default-user=s64",
      "userId": "02488480816656216475"
     },
     "user_tz": -120
    },
    "id": "uC84tOhF9rNp",
    "outputId": "24a20d15-8e88-466f-dc44-e4534bfe7e0e"
   },
   "outputs": [
    {
     "data": {
      "image/png": "[encoded data removed]",
      "text/plain": [
       "<Figure size 1152x432 with 2 Axes>"
      ]
     },
     "metadata": {},
     "output_type": "display_data"
    }
   ],
   "source": [
    "fig = plt.figure(figsize =(16, 6))\n",
    "fig.suptitle('Age and Age Group distribution', fontsize=18)\n",
    "\n",
    "\n",
    "plt.subplot(1, 2, 1)\n",
    "df['Age'].plot.box(fontsize=14)\n",
    "\n",
    "plt.subplot(1, 2, 2)\n",
    "blues = [\"#3182BD\",\"#6BAED6\",\"#9ECAE1\",\"#C6DBEF\"]\n",
    "my_labels = [\"Adult\", \"Child\", \"Senior\", \"Youth\"]\n",
    "\n",
    "plt.pie(df['AgeGroup'].value_counts(), autopct='%1.1f%%', textprops={'fontsize': 14}, colors=blues, pctdistance=.7, startangle=90)\n",
    "plt.legend(title=\"Age Group\", title_fontsize=14, labels=my_labels, bbox_to_anchor=(1, 1))#bbox_to_anchor=(1, 0.6)\n",
    "plt.show()"
   ]
  },
  {
   "cell_type": "markdown",
   "metadata": {
    "id": "SKO0Bam4D9Mi"
   },
   "source": [
    "The box plot shows one outlier value (115) for the *Age* attribute. As seen before, only 5 records have the *Age* attribute equal to 115, since these records seem to be legitimate we decide to keep them.\n",
    "\n",
    "In addition, we note that most appointments are booked by adults, followed by children and, almost equally, by seniors and youth."
   ]
  },
  {
   "cell_type": "markdown",
   "metadata": {
    "id": "oHEIJNAo-iCv"
   },
   "source": [
    "### *Neighbourhood*"
   ]
  },
  {
   "cell_type": "code",
   "execution_count": null,
   "metadata": {
    "id": "_Gv-eunQ-mVe"
   },
   "outputs": [],
   "source": [
    "df['Neighbourhood'].value_counts().plot(kind='bar', figsize =(20, 6), linewidth=0, xlabel=\"Neighbourhood\")\n",
    "plt.title(\"Number of Appointments per Neighbourhood\", fontsize=18)\n",
    "plt.show()"
   ]
  },
  {
   "cell_type": "markdown",
   "metadata": {
    "id": "sZZt1zYB_sqF"
   },
   "source": [
    "We note that the distribution of the appointments in the different neighbourhoods is not uniform: there are few neighbourhoods where the majority of the appointments took place."
   ]
  },
  {
   "cell_type": "markdown",
   "metadata": {
    "id": "pDtKcekg-A0w"
   },
   "source": [
    "### *AppointmentDay*"
   ]
  },
  {
   "cell_type": "code",
   "execution_count": null,
   "metadata": {
    "id": "9ASq_m3oH7Sz"
   },
   "outputs": [],
   "source": [
    "plt.title(\"Number of Appointments per Day of the Week\", fontsize=16)\n",
    "df['AppointmentDay'].value_counts(sort=False).plot(kind='bar', figsize =(15, 6), linewidth=0, xlabel=\"Day of the Week\")\n",
    "plt.show()"
   ]
  },
  {
   "cell_type": "markdown",
   "metadata": {
    "id": "HrzR-TlVCOwg"
   },
   "source": [
    "We note that the majority of the appointments took place between Monday and Friday, only a handful of appointments took place on Saturday and none took place on Sunday."
   ]
  },
  {
   "cell_type": "markdown",
   "metadata": {
    "id": "QpkhN6yV-nG2"
   },
   "source": [
    "### *WaitingDays* and *WaitingTime*"
   ]
  },
  {
   "cell_type": "code",
   "execution_count": null,
   "metadata": {
    "id": "e62h7zwBJquQ"
   },
   "outputs": [],
   "source": [
    "fig = plt.figure(figsize =(20, 12))\n",
    "\n",
    "my_labels = [\"Same Day\", \"Short\", \"Medium\", \"High\", \"Very High\"]\n",
    "blues = [\"#DAE8F5\", \"#88BEDC\",\"#539DCC\",\"#2A7AB9\",\"#0B559F\"]\n",
    "plt.subplot(1,3,2)\n",
    "plt.title(\"Waiting Time Distribution\", fontsize=18)\n",
    "plt.pie(df['WaitingTime'].value_counts(), autopct='%1.1f%%', textprops={'fontsize': 14}, colors=blues, pctdistance=.7)\n",
    "plt.legend(title=\"Waiting Time\", title_fontsize=14, labels=my_labels, bbox_to_anchor=(1, 0.9))\n",
    "\n",
    "fig = plt.figure(figsize =(20, 6))\n",
    "fig.suptitle(\"Waiting Days Distribution\", fontsize=18)\n",
    "plt.subplot(1,2,1)\n",
    "\n",
    "df['WaitingDays'].plot.hist(bins=36, xlabel=\"Waiting Days\")\n",
    "\n",
    "plt.subplot(1,2,2)\n",
    "#plt.title(\"Box Plot\", fontsize=16)\n",
    "df['WaitingDays'].plot.box()\n",
    "plt.show()\n",
    "\n",
    "\n"
   ]
  },
  {
   "cell_type": "markdown",
   "metadata": {
    "id": "26AaT9vgGY7O"
   },
   "source": [
    "We note that most of the appointments took place within 7 days from the booking date. Moreover, almost 35% of the appointments took place the same day of the booking. Indeed, the values of the attribute *WaitingDays* follow a very skewed distribution. \n",
    "\n",
    "Furthermore, as we can see from the box plot, the values belonging to the categories *High* and *Very High* are considered outliers, however, since they add up to 20% of the records of the dataset, we decide to keep them."
   ]
  },
  {
   "cell_type": "markdown",
   "metadata": {
    "id": "b5-guzW7hz1d"
   },
   "source": [
    "### *PrevAppointments* and *PrevNoShowRatio*"
   ]
  },
  {
   "cell_type": "code",
   "execution_count": null,
   "metadata": {
    "id": "W-aZG_8xiBEl"
   },
   "outputs": [],
   "source": [
    "fig = plt.figure(figsize =(20, 6))\n",
    "fig.suptitle(\"PrevAppointments and PrevNoShowRatio Distribution\", fontsize=18)\n",
    "plt.subplot(1,2,1)\n",
    "plt.xlabel(\"Previous Appointments\")\n",
    "df['PrevAppointments'].plot.hist(bins=44)\n",
    "\n",
    "plt.subplot(1,2,2)\n",
    "#plt.title(\"Box Plot\", fontsize=16)\n",
    "plt.xlabel(\" Previous Appointments No-Show Ratio\")\n",
    "plt.xticks([0.0, 0.1, 0.2, 0.3, 0.4, 0.5, 0.6, 0.7, 0.8, 0.9, 1.0])\n",
    "df['PrevNoShowRatio'].plot.hist()\n",
    "plt.show()\n"
   ]
  },
  {
   "cell_type": "markdown",
   "metadata": {
    "id": "CwuWhHh7yFfw"
   },
   "source": [
    "We note that both attributes follow a very skewed distribution. This is mainly due to the fact that the majority of the records refers to the first appointment of a patient. \n",
    "\n",
    "We now observe how many patients have booked a certain number of appointments:"
   ]
  },
  {
   "cell_type": "code",
   "execution_count": null,
   "metadata": {
    "id": "8bqPtH0Vyt1N"
   },
   "outputs": [],
   "source": [
    "print(\"Total number of patients: \", len(df['PatientID'].unique()), end=\"\\n\\n\")\n",
    "\n",
    "# count how many patients have done x appointments (x appointments ---> number of patients)\n",
    "s = df.groupby(by=['PatientID']).size().value_counts().sort_index()\n",
    "\n",
    "tmp = pd.DataFrame({'#Appointments':s.index, '#Patients':s.values})\n",
    "tmp.style.hide_index()"
   ]
  },
  {
   "cell_type": "markdown",
   "metadata": {
    "id": "8y4M5L6s32Q6"
   },
   "source": [
    "We observe that about 60\\% of patients made only one appointment. However, we think it still might be helpful to know the no-show rate for patients who have made more than one appointment. Therefore, we think these two attributes might be helpful during the classification phase."
   ]
  },
  {
   "cell_type": "markdown",
   "metadata": {
    "id": "g8xIaa9bHV2f"
   },
   "source": [
    "### Distributions of the other attributes"
   ]
  },
  {
   "cell_type": "code",
   "execution_count": null,
   "metadata": {
    "id": "Xx-632qJ9eax"
   },
   "outputs": [],
   "source": [
    "fig = plt.figure(figsize =(24, 6))#, tight_layout=True)\n",
    "\n",
    "blues = [\"#3182BD\",\"#C6DBEF\"]\n",
    "\n",
    "plt.subplot(1, 3, 1)\n",
    "my_labels = [\"Female\", \"Male\"]\n",
    "plt.title(\"Gender Distribution\", fontsize=16)\n",
    "plt.pie(df['Gender'].value_counts(), labels=my_labels, autopct='%1.1f%%', textprops={'fontsize': 14}, colors=blues, pctdistance=.7)\n",
    "\n",
    "plt.subplot(1, 3, 2)\n",
    "my_labels = [\"No Financial Aid\", \"Financial Aid\"]\n",
    "plt.title(\"Financial Aid Distribution\", fontsize=16)\n",
    "plt.pie(df['FinancialAid'].value_counts(), labels=my_labels, autopct='%1.1f%%', textprops={'fontsize': 14}, colors=blues, pctdistance=.7)\n",
    "\n",
    "plt.subplot(1, 3, 3)  \n",
    "my_labels = [\"No handicap\", \"Handicap\"]\n",
    "plt.title(\"Handicap Distribution\", fontsize=16)\n",
    "plt.pie(df['HasHandicap'].value_counts(), labels=my_labels, autopct='%1.0f%%', textprops={'fontsize': 14}, colors=blues, pctdistance=.72)\n",
    "plt.show()"
   ]
  },
  {
   "cell_type": "markdown",
   "metadata": {
    "id": "ColEX1EX6ILE"
   },
   "source": [
    "We note that the dataset is unbalanced with respect to the *Gender* attribute and even more unbalanced with respect to the *HasHandicap* and *FinancialAid* attributes."
   ]
  },
  {
   "cell_type": "code",
   "execution_count": null,
   "metadata": {
    "id": "UL76Igt_Ken-"
   },
   "outputs": [],
   "source": [
    "fig = plt.figure(figsize =(24, 6))\n",
    "fig.suptitle(\"Disease Attributes Distribution\", fontsize=18)\n",
    "\n",
    "plt.subplot(1, 3, 1)\n",
    "my_labels = [\"No Hypertension\", \"Hypertension\"]\n",
    "plt.pie(df['Hypertension'].value_counts(), labels=my_labels, autopct='%1.1f%%', textprops={'fontsize': 14}, colors=blues, pctdistance=.7)\n",
    "\n",
    "plt.subplot(1, 3, 2)\n",
    "my_labels = [\"No Diabetes\", \"Diabetes\"]\n",
    "plt.pie(df['Diabetes'].value_counts(), labels=my_labels, autopct='%1.1f%%', textprops={'fontsize': 14}, colors=blues, pctdistance=.7)\n",
    "\n",
    "plt.subplot(1, 3, 3)  \n",
    "my_labels = [\"No Alcoholism\", \"Alcoholism\"]\n",
    "plt.pie(df['Alcoholism'].value_counts(), labels=my_labels, autopct='%1.0f%%', textprops={'fontsize': 14}, colors=blues, pctdistance=.72)\n",
    "plt.show()"
   ]
  },
  {
   "cell_type": "markdown",
   "metadata": {
    "id": "K5KIeWX88Qjx"
   },
   "source": [
    "The dataset is very unbalanced with respect to the *Hypertension*, *Diabetes*, *Alcoholism* attributes."
   ]
  },
  {
   "cell_type": "code",
   "execution_count": null,
   "metadata": {
    "id": "jnwmGal9G3j0"
   },
   "outputs": [],
   "source": [
    "# SMS_received           \n",
    "my_labels = [\"No SMS Received\", \"SMS Received\"]\n",
    "fig = plt.figure(figsize =(8, 6))\n",
    "\n",
    "plt.title(\"SMS Distribution\", fontsize=16)\n",
    "plt.pie(df['SMS_received'].value_counts(), labels=my_labels, autopct='%1.1f%%', textprops={'fontsize': 14}, colors=blues, pctdistance=.7)\n",
    "plt.show()"
   ]
  },
  {
   "cell_type": "markdown",
   "metadata": {
    "id": "UNBdFs0B85IX"
   },
   "source": [
    "Nearly two-thirds of patients did not receive a SMS for a specific appointment."
   ]
  },
  {
   "cell_type": "markdown",
   "metadata": {
    "id": "RoTv3sUb_WgP"
   },
   "source": [
    "### *No_show* ratio for different attributes"
   ]
  },
  {
   "cell_type": "markdown",
   "metadata": {
    "id": "oTL4qIUVL_9z"
   },
   "source": [
    "In this section we investigate whether the value of certain attributes affects the likelihood that a patient will or will not show up for an appointment.\n",
    "\n",
    "In particular, for each attribute we visualise the no-show ratio for all the possible values of that attribute."
   ]
  },
  {
   "cell_type": "code",
   "execution_count": null,
   "metadata": {
    "id": "r_CnQavyxlSD"
   },
   "outputs": [],
   "source": [
    "#No show ratio for different attributes function def\n",
    "def no_show_ratio(tmp_df, columns):\n",
    "  return tmp_df[tmp_df[\"No_show\"] == 1].groupby([columns]).size()/tmp_df.groupby([columns]).size()\n",
    "  "
   ]
  },
  {
   "cell_type": "code",
   "execution_count": null,
   "metadata": {
    "id": "KUgGCRiqPSed"
   },
   "outputs": [],
   "source": [
    "fig = plt.figure(figsize=(16,12))\n",
    "fig.suptitle(\"No Show Ratios\", fontsize=18)\n",
    "\n",
    "plt.subplot(2,2,1)\n",
    "male_female_ratio = no_show_ratio(df, \"Gender\")\n",
    "male_female_ratio.plot(kind='bar')\n",
    "\n",
    "plt.subplot(2,2,2)\n",
    "handicap_ratio = no_show_ratio(df, \"HasHandicap\")\n",
    "handicap_ratio.plot(kind='bar')\n",
    "\n",
    "plt.subplot(2,2,3)\n",
    "appointment_day_ratio = no_show_ratio(df, \"AppointmentDay\")\n",
    "appointment_day_ratio.plot(kind='bar')\n",
    "\n",
    "plt.subplot(2,2,4)\n",
    "financial_aid_ratio = no_show_ratio(df, \"FinancialAid\")\n",
    "financial_aid_ratio.plot(kind='bar')\n",
    "plt.show()"
   ]
  },
  {
   "cell_type": "markdown",
   "metadata": {
    "id": "EjIsMhfgPi9V"
   },
   "source": [
    "It seems that whether a patient is male or female, or whether the patient has a disability or not, does not affect the fact that the patient shows up for the appointment or not.\n",
    "\n",
    "Regarding the *AppointmentDay* and *FinancialAid* attributes, we note a slight difference in the no_show ratio depending on the value of the attribute. Nevertheless, we believe these differences are not very significant."
   ]
  },
  {
   "cell_type": "code",
   "execution_count": null,
   "metadata": {
    "id": "P0Wdgqy_IxWf"
   },
   "outputs": [],
   "source": [
    "fig = plt.figure(figsize=(16,6))\n",
    "\n",
    "plt.subplot(1,2,1)\n",
    "plt.title(\"No show Ratio for Age Group\", fontsize=16)\n",
    "age_group_ratio = no_show_ratio(df, \"AgeGroup\")\n",
    "age_group_ratio.plot(kind='bar')\n",
    "\n",
    "plt.subplot(1,2,2)\n",
    "plt.title(\"No show Ratio for Waiting Time\", fontsize=16)\n",
    "waiting_time_ratio = no_show_ratio(df, \"WaitingTime\")\n",
    "waiting_time_ratio.plot(kind='bar')\n",
    "plt.show()"
   ]
  },
  {
   "cell_type": "markdown",
   "metadata": {
    "id": "31fTf9UhSl_k"
   },
   "source": [
    "We note that the no-show ratio is higher for youths and lower for seniors. This is reasonable taking into account the fact that older people tend to have more health related problems with respect to youger ones, therefore seniors usually do not miss medical appointments. \n",
    "\n",
    "However, we have an almost identical no-show ratio for children and adults. This may be explained by the fact that adults are in charge of their children's appointments.\n",
    "\n",
    "Regarding the *WaitingTime* attribute, we observe a really small no-show ratio for the appointments scheduled on the same day of the booking. For the others *WaitingTime* categories we have a larger no-show ratio. Moreover, the no-show ratio increases as the waiting time grows."
   ]
  },
  {
   "cell_type": "code",
   "execution_count": null,
   "metadata": {
    "id": "H7PShapDL7WV"
   },
   "outputs": [],
   "source": [
    "rows = []\n",
    "\n",
    "for column in ['Diabetes', 'Alcoholism', 'Hypertension']:\n",
    "  for value in sorted(df[column].unique()):\n",
    "    row = {'Disease' : column}\n",
    "    total = len(df[df[column] == value])\n",
    "    n = len(df[(df['No_show'] == 1) & (df[column] == value)])\n",
    "    row.update({'Has Disease': value, 'No Show Probability': n/total})\n",
    "    rows.append(row)\n",
    "\n",
    "blues = [\"#3182BD\",\"#C6DBEF\"]\n",
    "pd.DataFrame(rows).pivot(\"Disease\", \"Has Disease\", \"No Show Probability\").plot(kind='bar', width=.5, edgecolor='white', linewidth=1, figsize =(9, 6), rot=0, color=blues)\n",
    "plt.title(\"No show Ratio for different diseases\", fontsize=16)\n",
    "plt.legend(title=\"Has Disease\", title_fontsize=13, bbox_to_anchor=(1.21, 1))\n",
    "plt.show()"
   ]
  },
  {
   "cell_type": "markdown",
   "metadata": {
    "id": "BNqfWLryDZJ-"
   },
   "source": [
    "We note that the likelihood of showing up for appointments is slightly higher for patients with diabetes and hypertension."
   ]
  },
  {
   "cell_type": "code",
   "execution_count": null,
   "metadata": {
    "id": "YjlExriCPWmq"
   },
   "outputs": [],
   "source": [
    "fig = plt.figure(figsize=(8,6))\n",
    "\n",
    "plt.title(\"No show Ratio for SMS received\", fontsize=16)\n",
    "SMS_received_ratio = no_show_ratio(df, \"SMS_received\")\n",
    "SMS_received_ratio.plot(kind='bar')\n",
    "plt.show()"
   ]
  },
  {
   "cell_type": "markdown",
   "metadata": {
    "id": "MS-UayhB0SSZ"
   },
   "source": [
    "We note that receiving the text message seems to negatively affect whether a patient shows up for the appointment. \n",
    "\n",
    "This seems counterintuitive, as receiving the text message may be expected to remind people to go to the appointment. However, we do not know when text messages are sent to patients, making it more difficult to discuss their effectiveness. \n",
    "\n",
    "For example, if the text message is sent only a few hours before the appointment to a patient who booked the appointment long before, the patient may have forgotten about the appointment before receiving the text message and therefore may not show up because they now have other commitments."
   ]
  },
  {
   "cell_type": "markdown",
   "metadata": {
    "id": "PGNfy43H6CPZ"
   },
   "source": [
    "We can investigate whether receiving the text message is more effective for certain age groups. For example, one could think that young people are more confident with smartphone use than older people."
   ]
  },
  {
   "cell_type": "code",
   "execution_count": null,
   "metadata": {
    "id": "tuaQiS27zXXz"
   },
   "outputs": [],
   "source": [
    "blues = [\"#3182BD\",\"#C6DBEF\"]\n",
    "\n",
    "#Se invertiamo l'ordine di raggruppamento sull'asse x otteniamo un'altra versione\n",
    "df_ratio = (df[df[\"No_show\"] == 1].groupby([\"AgeGroup\", \"SMS_received\"] ).size()/df.groupby([\"AgeGroup\", \"SMS_received\"]).size()).unstack()\n",
    "df_ratio.plot(kind='bar', color=blues, figsize=(9,6))\n",
    "plt.legend(title=\"SMS received\", title_fontsize=14)#, bbox_to_anchor=(1, 1))\n",
    "plt.show()"
   ]
  },
  {
   "cell_type": "markdown",
   "metadata": {
    "id": "pPuiNmSw6LNo"
   },
   "source": [
    "However, receiving the text message turns out to have a negative impact in all age groups."
   ]
  },
  {
   "cell_type": "markdown",
   "metadata": {
    "id": "MvSMv_s4_rkk"
   },
   "source": [
    "We now investigate whether the effectiveness of the text message changes for longer or shorter waiting times."
   ]
  },
  {
   "cell_type": "code",
   "execution_count": null,
   "metadata": {
    "id": "z9wgFwH95_Vz"
   },
   "outputs": [],
   "source": [
    "df_ratio = (df[df[\"No_show\"] == 1].groupby([\"WaitingTime\", \"SMS_received\"] ).size()/df.groupby([\"WaitingTime\", \"SMS_received\"]).size()).unstack()\n",
    "df_ratio.plot(kind='bar', color=blues, figsize=(9,6))\n",
    "plt.legend(title=\"SMS received\", title_fontsize=14)#, bbox_to_anchor=(1, 1))\n",
    "plt.show()"
   ]
  },
  {
   "cell_type": "code",
   "execution_count": null,
   "metadata": {
    "id": "nOBoZCi_BMTg"
   },
   "outputs": [],
   "source": [
    "print(\"Number of records with 'WaitingTime' = 'Same Day' and 'SMS_received' = 1:\", len(df[(df['WaitingTime'] == 'Same Day') & (df['SMS_received'] == 1)]))"
   ]
  },
  {
   "cell_type": "markdown",
   "metadata": {
    "id": "GhYgxG0tCLtF"
   },
   "source": [
    "The effectiveness of receiving the text message seems to increase as the appointment waiting time grows."
   ]
  },
  {
   "cell_type": "markdown",
   "metadata": {
    "id": "gK3-yVvZEjbA"
   },
   "source": [
    "<a id='correlations'></a>\n",
    "# Correlation Analysis"
   ]
  },
  {
   "cell_type": "code",
   "execution_count": null,
   "metadata": {
    "id": "0WTrWVfIhuOB"
   },
   "outputs": [],
   "source": [
    "columns = df.columns.drop(['PatientID', 'AppointmentID'])\n",
    "\n",
    "corr = df[columns].corr()\n",
    "plt.subplots(figsize =(13, 11))\n",
    "hm = sns.heatmap(corr, xticklabels=corr.columns.values, yticklabels=corr.columns.values, annot=True)"
   ]
  },
  {
   "cell_type": "markdown",
   "metadata": {
    "id": "_lONFgJgGCQF"
   },
   "source": [
    "As expected there is a large correlation between the attributes *Handicap* and *HasHandicap*, since the latter is directly computed from the former.\n",
    "\n",
    "There is a slight correlation between the attribute *Age* and the attributes *Hypertension* and *Diabetes*. This is reasonable as these diseases affect older people more. Also, *Hypertension* and *Diabetes* are slightly correlated with each other.\n",
    "\n",
    "Moreover, we note a slight correlation between the attributes *WaitingDays* and *SMS_received*.\n",
    "\n",
    "Finally, we observe that the attributes that have a higher correlation (albeit minimal) with the No-show attribute are *WaitingDays (0.19)*, *SMS_Received* (0.13) and *PrevNoShowRatio* (0.11).\n"
   ]
  },
  {
   "cell_type": "markdown",
   "metadata": {
    "id": "4cXM6MGcUSMk"
   },
   "source": [
    "<a id='next_steps'></a>\n",
    "# Next steps"
   ]
  },
  {
   "cell_type": "markdown",
   "metadata": {
    "id": "XoZmDpzTUUFJ"
   },
   "source": [
    "The next part of the analysis will focus on creating a predictive model for the target variable *No-show*. To do this, we should select a subset of meaningful attributes and normalize them if necessary.\n",
    "\n",
    "Our goal is to select a model that is fairly accurate in prediction and at the same time has good explainability. It is important that the model is interpretable enough as this can help to understand what the main reasons are for a patient not showing up for an appointment, allowing to improve service quality and reduce costs."
   ]
  },
  {
   "cell_type": "code",
   "execution_count": null,
   "metadata": {
    "id": "WTS37M_j1p2I"
   },
   "outputs": [],
   "source": [
    "df.to_csv(\"/content/drive/MyDrive/BigData/NoShowAppointments-part2.csv\", index=False)"
   ]
  },
  {
   "cell_type": "markdown",
   "metadata": {
    "id": "QFHo_LvjsCOS"
   },
   "source": [
    "# Save the Notebook"
   ]
  },
  {
   "cell_type": "code",
   "execution_count": null,
   "metadata": {
    "id": "cue9lMykqKSS"
   },
   "outputs": [],
   "source": [
    "# Execute this to save new versions of the notebook\n",
    "jovian.commit(project=\"bda-project-part-1\")"
   ]
  },
  {
   "cell_type": "code",
   "execution_count": null,
   "metadata": {
    "id": "7_briZo_qKST"
   },
   "outputs": [],
   "source": []
  }
 ],
 "metadata": {
  "colab": {
   "collapsed_sections": [
    "Cq08tHY3uuap",
    "hoUJN9dF6Z2B",
    "gK3-yVvZEjbA"
   ],
   "name": "bda-project-part-1.ipynb",
   "provenance": []
  },
  "language_info": {
   "codemirror_mode": {
    "name": "ipython",
    "version": 3
   },
   "file_extension": ".py",
   "mimetype": "text/x-python",
   "name": "python",
   "nbconvert_exporter": "python",
   "pygments_lexer": "ipython3",
   "version": "3.7.6"
  }
 },
 "nbformat": 4,
 "nbformat_minor": 0
}